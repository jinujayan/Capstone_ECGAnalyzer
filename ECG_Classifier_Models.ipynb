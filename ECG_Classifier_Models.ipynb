{
 "cells": [
  {
   "cell_type": "code",
   "execution_count": 33,
   "metadata": {},
   "outputs": [],
   "source": [
    "import pandas as pd\n",
    "import numpy as np\n",
    "import matplotlib.pyplot as plt\n",
    "import keras\n",
    "from keras.models import Sequential\n",
    "from keras.layers import Dense, Dropout, Flatten\n",
    "from keras.layers import Conv1D, MaxPooling1D, GlobalAveragePooling1D\n",
    "from keras.optimizers import SGD\n",
    "from keras.utils import to_categorical\n",
    "from keras.models import load_model\n",
    "from sklearn.model_selection import train_test_split\n",
    "import tensorflow.python.util.deprecation as deprecation\n",
    "import pathlib\n",
    "deprecation._PRINT_DEPRECATION_WARNINGS = False\n",
    "%matplotlib inline\n",
    "\n"
   ]
  },
  {
   "cell_type": "markdown",
   "metadata": {},
   "source": [
    "### Set up tokens to download data from kaggle via api\n",
    "\n",
    "To download manually got to https://www.kaggle.com/shayanfazeli/heartbeat\n",
    "\n",
    "To run the below cell, enter valid user name and api key\n",
    "\n",
    "To install kaggle run 'pip install kaggle'"
   ]
  },
  {
   "cell_type": "code",
   "execution_count": 34,
   "metadata": {},
   "outputs": [],
   "source": [
    "import os\n",
    "os.environ['KAGGLE_USERNAME'] = \"jinujayan\"\n",
    "os.environ['KAGGLE_KEY'] = \"799d2b77ddfbafa78c6eae8b1f681e3a\"\n",
    "import kaggle\n",
    "kaggle.api.authenticate()\n",
    "\n",
    "pathlib.Path.cwd().joinpath('data').mkdir(parents=True, exist_ok=True)\n",
    "kaggle.api.dataset_download_files('shayanfazeli/heartbeat', path='data', unzip=True)"
   ]
  },
  {
   "cell_type": "markdown",
   "metadata": {},
   "source": [
    "### Read the MIT Arrhythmia Dataset"
   ]
  },
  {
   "cell_type": "code",
   "execution_count": 35,
   "metadata": {},
   "outputs": [
    {
     "data": {
      "text/plain": [
       "(109444, 188)"
      ]
     },
     "execution_count": 35,
     "metadata": {},
     "output_type": "execute_result"
    }
   ],
   "source": [
    "df = pd.read_csv('data/mitbih_train.csv')\n",
    "renamed_cols = [f\"col_{i}\" for i,col in enumerate(df.columns)]\n",
    "df.columns = renamed_cols\n",
    "\n",
    "df_test = pd.read_csv('data/mitbih_test.csv')\n",
    "renamed_cols = [f\"col_{i}\" for i,col in enumerate(df_test.columns)]\n",
    "df_test.columns = renamed_cols\n",
    "\n",
    "df_MIT = pd.concat([df,df_test],ignore_index=True)\n",
    "df_MIT.shape"
   ]
  },
  {
   "cell_type": "markdown",
   "metadata": {},
   "source": [
    "### Data Visualization and Analysis"
   ]
  },
  {
   "cell_type": "code",
   "execution_count": 36,
   "metadata": {},
   "outputs": [
    {
     "data": {
      "image/png": "[encoded data removed]",
      "text/plain": [
       "<Figure size 432x288 with 1 Axes>"
      ]
     },
     "metadata": {
      "needs_background": "light"
     },
     "output_type": "display_data"
    }
   ],
   "source": [
    "###Plot to see variations in each class\n",
    "##change class numbers as 1.0, 0.0, 2.0,3.0, 4.0\n",
    "\n",
    "def plotGivenClass(cls):\n",
    "    df_MIT.loc[df_MIT.col_187 == cls].sample(1).iloc[0].plot()\n",
    "    return\n",
    "\n",
    "plotGivenClass(1.0)"
   ]
  },
  {
   "cell_type": "code",
   "execution_count": 57,
   "metadata": {},
   "outputs": [
    {
     "data": {
      "text/plain": [
       "0.0    90587\n",
       "4.0     8039\n",
       "2.0     7236\n",
       "1.0     2779\n",
       "3.0      803\n",
       "Name: col_187, dtype: int64"
      ]
     },
     "execution_count": 57,
     "metadata": {},
     "output_type": "execute_result"
    }
   ],
   "source": [
    "df_MIT.col_187.value_counts()"
   ]
  },
  {
   "cell_type": "markdown",
   "metadata": {},
   "source": [
    "### Split dataset to train and test"
   ]
  },
  {
   "cell_type": "code",
   "execution_count": 37,
   "metadata": {},
   "outputs": [],
   "source": [
    "x_train, x_test, y_train, y_test = train_test_split(df_MIT.iloc[:,:-1].values, df_MIT.iloc[:,-1].values, test_size = 0.3, random_state = 42)"
   ]
  },
  {
   "cell_type": "markdown",
   "metadata": {},
   "source": [
    "### Create model architecture - ECG Classifier"
   ]
  },
  {
   "cell_type": "code",
   "execution_count": 38,
   "metadata": {},
   "outputs": [
    {
     "name": "stdout",
     "output_type": "stream",
     "text": [
      "Model: \"sequential_3\"\n",
      "_________________________________________________________________\n",
      "Layer (type)                 Output Shape              Param #   \n",
      "=================================================================\n",
      "conv1d_5 (Conv1D)            (None, 178, 100)          1100      \n",
      "_________________________________________________________________\n",
      "max_pooling1d_5 (MaxPooling1 (None, 89, 100)           0         \n",
      "_________________________________________________________________\n",
      "conv1d_6 (Conv1D)            (None, 80, 160)           160160    \n",
      "_________________________________________________________________\n",
      "max_pooling1d_6 (MaxPooling1 (None, 40, 160)           0         \n",
      "_________________________________________________________________\n",
      "dropout_3 (Dropout)          (None, 40, 160)           0         \n",
      "_________________________________________________________________\n",
      "flatten_3 (Flatten)          (None, 6400)              0         \n",
      "_________________________________________________________________\n",
      "dense_3 (Dense)              (None, 5)                 32005     \n",
      "=================================================================\n",
      "Total params: 193,265\n",
      "Trainable params: 193,265\n",
      "Non-trainable params: 0\n",
      "_________________________________________________________________\n",
      "None\n"
     ]
    }
   ],
   "source": [
    "num_classes=5\n",
    "model_m = Sequential()\n",
    "model_m.add(Conv1D(100, 10, activation='relu', input_shape=(187,1)))\n",
    "\n",
    "model_m.add(MaxPooling1D(2))\n",
    "model_m.add(Conv1D(160, 10, activation='relu'))\n",
    "\n",
    "model_m.add(MaxPooling1D(2))\n",
    "model_m.add(Dropout(0.5))\n",
    "model_m.add(Flatten())\n",
    "model_m.add(Dense(num_classes, activation='softmax'))\n",
    "print(model_m.summary())"
   ]
  },
  {
   "cell_type": "code",
   "execution_count": 39,
   "metadata": {},
   "outputs": [],
   "source": [
    "### Format the data so as to get it to correct shape\n",
    "y_train = to_categorical(y_train)\n",
    "y_test = to_categorical(y_test)\n",
    "#x_train = x_train.shape + (1,)\n",
    "x_train = x_train.reshape(x_train.shape[0], x_train.shape[1],1)\n",
    "x_test = x_test.reshape(x_test.shape[0], x_test.shape[1],1)"
   ]
  },
  {
   "cell_type": "code",
   "execution_count": 40,
   "metadata": {},
   "outputs": [
    {
     "data": {
      "text/plain": [
       "(32834, 5)"
      ]
     },
     "execution_count": 40,
     "metadata": {},
     "output_type": "execute_result"
    }
   ],
   "source": [
    "y_test.shape"
   ]
  },
  {
   "cell_type": "code",
   "execution_count": 41,
   "metadata": {},
   "outputs": [
    {
     "name": "stdout",
     "output_type": "stream",
     "text": [
      "Train on 76610 samples, validate on 32834 samples\n",
      "Epoch 1/10\n",
      "76610/76610 [==============================] - 174s 2ms/step - loss: 0.4480 - acc: 0.8744 - val_loss: 0.2759 - val_acc: 0.9297\n",
      "Epoch 2/10\n",
      "76610/76610 [==============================] - 176s 2ms/step - loss: 0.2360 - acc: 0.9346 - val_loss: 0.2098 - val_acc: 0.9411\n",
      "Epoch 3/10\n",
      "76610/76610 [==============================] - 192s 3ms/step - loss: 0.1936 - acc: 0.9463 - val_loss: 0.1709 - val_acc: 0.9524\n",
      "Epoch 4/10\n",
      "76610/76610 [==============================] - 200s 3ms/step - loss: 0.1687 - acc: 0.9537 - val_loss: 0.1509 - val_acc: 0.9575\n",
      "Epoch 5/10\n",
      "76610/76610 [==============================] - 216s 3ms/step - loss: 0.1519 - acc: 0.9586 - val_loss: 0.1350 - val_acc: 0.9623\n",
      "Epoch 6/10\n",
      "76610/76610 [==============================] - 200s 3ms/step - loss: 0.1380 - acc: 0.9615 - val_loss: 0.1248 - val_acc: 0.9660\n",
      "Epoch 7/10\n",
      "76610/76610 [==============================] - 218s 3ms/step - loss: 0.1285 - acc: 0.9646 - val_loss: 0.1154 - val_acc: 0.9688\n",
      "Epoch 8/10\n",
      "76610/76610 [==============================] - 234s 3ms/step - loss: 0.1203 - acc: 0.9673 - val_loss: 0.1091 - val_acc: 0.9696\n",
      "Epoch 9/10\n",
      "76610/76610 [==============================] - 237s 3ms/step - loss: 0.1136 - acc: 0.9686 - val_loss: 0.1053 - val_acc: 0.9707\n",
      "Epoch 10/10\n",
      "76610/76610 [==============================] - 198s 3ms/step - loss: 0.1063 - acc: 0.9710 - val_loss: 0.1026 - val_acc: 0.9717\n"
     ]
    }
   ],
   "source": [
    "## Start model training...can be skipped and model directly loaded\n",
    "\n",
    "callbacks_list = [\n",
    "    keras.callbacks.ModelCheckpoint(\n",
    "        filepath='best_model.{epoch:02d}-{val_loss:.2f}.h5',\n",
    "        monitor='val_loss', save_best_only=True),\n",
    "    keras.callbacks.EarlyStopping(monitor='acc', patience=1)\n",
    "]\n",
    "\n",
    "model_m.compile(loss='categorical_crossentropy',\n",
    "                optimizer='adam', metrics=['accuracy'])\n",
    "\n",
    "BATCH_SIZE = 500\n",
    "EPOCHS = 10\n",
    "\n",
    "history = model_m.fit(x_train,\n",
    "                      y_train,\n",
    "                      batch_size=BATCH_SIZE,\n",
    "                      epochs=EPOCHS,\n",
    "                      shuffle=True,\n",
    "                      callbacks=callbacks_list,\n",
    "                      #validation_split=0.25,\n",
    "                      validation_data=(x_test, y_test),\n",
    "                      verbose=1)"
   ]
  },
  {
   "cell_type": "code",
   "execution_count": 42,
   "metadata": {},
   "outputs": [],
   "source": [
    "###Save the ECG classifier model to disk\n",
    "model_m.save(\"models/model_ECG_final.h5\")"
   ]
  },
  {
   "cell_type": "markdown",
   "metadata": {},
   "source": [
    "## Visualize Heartbeat classifier model loss and accuracy trends from training"
   ]
  },
  {
   "cell_type": "code",
   "execution_count": 43,
   "metadata": {},
   "outputs": [
    {
     "data": {
      "image/png": "[encoded data removed]",
      "text/plain": [
       "<Figure size 432x288 with 1 Axes>"
      ]
     },
     "metadata": {
      "needs_background": "light"
     },
     "output_type": "display_data"
    }
   ],
   "source": [
    "plt.plot(history.history['loss'])\n",
    "plt.plot(history.history['val_loss'])\n",
    "plt.title('model loss')\n",
    "plt.ylabel('loss')\n",
    "plt.xlabel('epoch')\n",
    "plt.legend(['train', 'val'], loc='upper left')\n",
    "plt.show()"
   ]
  },
  {
   "cell_type": "code",
   "execution_count": 44,
   "metadata": {},
   "outputs": [
    {
     "data": {
      "image/png": "[encoded data removed]",
      "text/plain": [
       "<Figure size 432x288 with 1 Axes>"
      ]
     },
     "metadata": {
      "needs_background": "light"
     },
     "output_type": "display_data"
    }
   ],
   "source": [
    "plt.plot(history.history['acc'])\n",
    "plt.plot(history.history['val_acc'])\n",
    "plt.title('model accuracy')\n",
    "plt.ylabel('accuracy')\n",
    "plt.xlabel('epoch')\n",
    "plt.legend(['train', 'val'], loc='upper left')\n",
    "plt.show()"
   ]
  },
  {
   "cell_type": "code",
   "execution_count": 45,
   "metadata": {},
   "outputs": [
    {
     "data": {
      "text/plain": [
       "[<tf.Variable 'conv1d_5/kernel:0' shape=(10, 1, 100) dtype=float32_ref>,\n",
       " <tf.Variable 'conv1d_5/bias:0' shape=(100,) dtype=float32_ref>,\n",
       " <tf.Variable 'conv1d_6/kernel:0' shape=(10, 100, 160) dtype=float32_ref>,\n",
       " <tf.Variable 'conv1d_6/bias:0' shape=(160,) dtype=float32_ref>,\n",
       " <tf.Variable 'dense_3/kernel:0' shape=(6400, 5) dtype=float32_ref>,\n",
       " <tf.Variable 'dense_3/bias:0' shape=(5,) dtype=float32_ref>]"
      ]
     },
     "execution_count": 45,
     "metadata": {},
     "output_type": "execute_result"
    }
   ],
   "source": [
    "##View model weights\n",
    "model_m.weights"
   ]
  },
  {
   "cell_type": "code",
   "execution_count": 46,
   "metadata": {},
   "outputs": [
    {
     "name": "stdout",
     "output_type": "stream",
     "text": [
      "The actual class for the test indexes are [0 0]\n",
      "The predicted classes for the test indexes are [0 0]\n"
     ]
    }
   ],
   "source": [
    "###Test some data points\n",
    "\n",
    "model_loaded = load_model('models/model_ECG_final.h5')\n",
    "idx = [26,27]\n",
    "\n",
    "##if previously not resphaped, run below line also\n",
    "#to_pred = x_test[idx].reshape(1,x_test[idx].shape[0], x_test[idx].shape[1])\n",
    "\n",
    "#if previously reshaped run the below line, else comment\n",
    "to_pred = x_test[idx]\n",
    "out_classes = model_loaded.predict(to_pred)\n",
    "print(f\"The actual class for the test indexes are {np.argmax(y_test[idx],axis=1)}\")\n",
    "print(f\"The predicted classes for the test indexes are {np.argmax(out_classes, axis =1)}\")\n"
   ]
  },
  {
   "cell_type": "code",
   "execution_count": 47,
   "metadata": {},
   "outputs": [
    {
     "data": {
      "text/plain": [
       "[<keras.layers.convolutional.Conv1D at 0x7fc8f07c3ef0>,\n",
       " <keras.layers.pooling.MaxPooling1D at 0x7fc8f07c35f8>,\n",
       " <keras.layers.convolutional.Conv1D at 0x7fc8f07c3748>,\n",
       " <keras.layers.pooling.MaxPooling1D at 0x7fc8f07f67f0>,\n",
       " <keras.layers.core.Dropout at 0x7fc8f07c3048>,\n",
       " <keras.layers.core.Flatten at 0x7fc8f079a588>,\n",
       " <keras.layers.core.Dense at 0x7fc8f079ad68>]"
      ]
     },
     "execution_count": 47,
     "metadata": {},
     "output_type": "execute_result"
    }
   ],
   "source": [
    "model_loaded.layers"
   ]
  },
  {
   "cell_type": "code",
   "execution_count": 48,
   "metadata": {},
   "outputs": [],
   "source": [
    "def copyModel2Model(model_source,model_target,certain_layer=\"\"):\n",
    "    \"\"\"\n",
    "    Function to copy weights from one model to another model till a certain layer\n",
    "    \n",
    "    @param  model_source : The source model whose weight needs to be copied\n",
    "    @param  model_target : The target model whose weight needs to be updated\n",
    "    @param  certain_layer : The layer till which the weights to be updated in the target model\n",
    "    \n",
    "    @return \n",
    "    \"\"\"\n",
    "    for l_tg,l_sr in zip(model_target.layers,model_source.layers):\n",
    "        print(l_tg.name)\n",
    "        wk0=l_sr.get_weights()\n",
    "        l_tg.set_weights(wk0)\n",
    "        if certain_layer in l_tg.name:\n",
    "            default_layer = l_tg.name\n",
    "            break\n",
    "    print(f\"Weights from model source was copied into model target...till layer {default_layer}(excluded)\") \n",
    "    return\n"
   ]
  },
  {
   "cell_type": "markdown",
   "metadata": {},
   "source": [
    "### Read the PTB Diagnostic ECG Dataset"
   ]
  },
  {
   "cell_type": "code",
   "execution_count": 49,
   "metadata": {},
   "outputs": [],
   "source": [
    "df_ptbn = pd.read_csv('data/ptbdb_normal.csv')\n",
    "renamed_cols = [f\"col_{i}\" for i,col in enumerate(df_ptbn.columns)]\n",
    "df_ptbn.columns = renamed_cols\n",
    "\n",
    "df_ptbabn = pd.read_csv('data/ptbdb_abnormal.csv')\n",
    "renamed_cols = [f\"col_{i}\" for i,col in enumerate(df_ptbabn.columns)]\n",
    "df_ptbabn.columns = renamed_cols\n",
    "\n",
    "df_ptb = pd.concat([df_ptbn,df_ptbabn],ignore_index=True)"
   ]
  },
  {
   "cell_type": "markdown",
   "metadata": {},
   "source": [
    "### Split dataset to train and test"
   ]
  },
  {
   "cell_type": "code",
   "execution_count": 50,
   "metadata": {},
   "outputs": [],
   "source": [
    "xmi_train, xmi_test, ymi_train, ymi_test = train_test_split(df_ptb.iloc[:,:-1].values, df_ptb.iloc[:,-1].values, test_size = 0.3, random_state = 42)"
   ]
  },
  {
   "cell_type": "code",
   "execution_count": 51,
   "metadata": {},
   "outputs": [
    {
     "data": {
      "text/plain": [
       "(4365, 187, 1)"
      ]
     },
     "execution_count": 51,
     "metadata": {},
     "output_type": "execute_result"
    }
   ],
   "source": [
    "##Format data to expected shape\n",
    "ymi_train = to_categorical(ymi_train)\n",
    "ymi_test = to_categorical(ymi_test)\n",
    "xmi_train = xmi_train.reshape(xmi_train.shape[0], xmi_train.shape[1],1)\n",
    "xmi_test = xmi_test.reshape(xmi_test.shape[0], xmi_test.shape[1],1)\n",
    "xmi_test.shape"
   ]
  },
  {
   "cell_type": "markdown",
   "metadata": {},
   "source": [
    "### Create model architecture - MI classifier"
   ]
  },
  {
   "cell_type": "code",
   "execution_count": 52,
   "metadata": {},
   "outputs": [
    {
     "data": {
      "text/plain": [
       "(10185, 187, 1)"
      ]
     },
     "execution_count": 52,
     "metadata": {},
     "output_type": "execute_result"
    }
   ],
   "source": [
    "xmi_train.shape"
   ]
  },
  {
   "cell_type": "code",
   "execution_count": 53,
   "metadata": {},
   "outputs": [
    {
     "name": "stdout",
     "output_type": "stream",
     "text": [
      "Model: \"sequential_4\"\n",
      "_________________________________________________________________\n",
      "Layer (type)                 Output Shape              Param #   \n",
      "=================================================================\n",
      "conv1d_7 (Conv1D)            (None, 178, 100)          1100      \n",
      "_________________________________________________________________\n",
      "max_pooling1d_7 (MaxPooling1 (None, 89, 100)           0         \n",
      "_________________________________________________________________\n",
      "conv1d_8 (Conv1D)            (None, 80, 160)           160160    \n",
      "_________________________________________________________________\n",
      "max_pooling1d_8 (MaxPooling1 (None, 40, 160)           0         \n",
      "_________________________________________________________________\n",
      "dropout_4 (Dropout)          (None, 40, 160)           0         \n",
      "_________________________________________________________________\n",
      "flatten_4 (Flatten)          (None, 6400)              0         \n",
      "_________________________________________________________________\n",
      "dense_4 (Dense)              (None, 2)                 12802     \n",
      "=================================================================\n",
      "Total params: 174,062\n",
      "Trainable params: 174,062\n",
      "Non-trainable params: 0\n",
      "_________________________________________________________________\n",
      "None\n"
     ]
    }
   ],
   "source": [
    "num_classes=2\n",
    "model_mi = Sequential()\n",
    "\n",
    "model_mi.add(Conv1D(100, 10, activation='relu', input_shape=(187,1)))\n",
    "model_mi.add(MaxPooling1D(2))\n",
    "model_mi.add(Conv1D(160, 10, activation='relu'))\n",
    "\n",
    "model_mi.add(MaxPooling1D(2))\n",
    "model_mi.add(Dropout(0.5))\n",
    "model_mi.add(Flatten())\n",
    "model_mi.add(Dense(num_classes, activation='softmax'))\n",
    "print(model_mi.summary())"
   ]
  },
  {
   "cell_type": "code",
   "execution_count": 54,
   "metadata": {},
   "outputs": [
    {
     "data": {
      "text/plain": [
       "[<keras.layers.convolutional.Conv1D at 0x7fc8bae89ba8>,\n",
       " <keras.layers.pooling.MaxPooling1D at 0x7fc8bae60fd0>,\n",
       " <keras.layers.convolutional.Conv1D at 0x7fc8bae69198>,\n",
       " <keras.layers.pooling.MaxPooling1D at 0x7fc8bae71d30>,\n",
       " <keras.layers.core.Dropout at 0x7fc8bad7eef0>,\n",
       " <keras.layers.core.Flatten at 0x7fc8b7e40b38>,\n",
       " <keras.layers.core.Dense at 0x7fc8b7e40b70>]"
      ]
     },
     "execution_count": 54,
     "metadata": {},
     "output_type": "execute_result"
    }
   ],
   "source": [
    "model_mi.layers"
   ]
  },
  {
   "cell_type": "code",
   "execution_count": 55,
   "metadata": {},
   "outputs": [
    {
     "name": "stdout",
     "output_type": "stream",
     "text": [
      "conv1d_7\n",
      "max_pooling1d_7\n",
      "conv1d_8\n",
      "max_pooling1d_8\n",
      "dropout_4\n",
      "flatten_4\n",
      "Weights from model source was copied into model target...till layer flatten_4(excluded)\n"
     ]
    }
   ],
   "source": [
    "### Call the method to initialize the weights of the model_mi\n",
    "copyModel2Model(model_loaded,model_mi,\"flatten\")"
   ]
  },
  {
   "cell_type": "code",
   "execution_count": 61,
   "metadata": {},
   "outputs": [
    {
     "name": "stdout",
     "output_type": "stream",
     "text": [
      "Comparisson results of the two model weights compared is -> True\n"
     ]
    }
   ],
   "source": [
    "### Verify if model weights are correctly copied\n",
    "\n",
    "source_layer1_weights = model_loaded.layers[0].get_weights()\n",
    "source_layer1_weights = np.array(source_layer1_weights[0])\n",
    "\n",
    "target_layer1_weights = model_mi.layers[0].get_weights()\n",
    "target_layer1_weights = np.array(target_layer1_weights[0])\n",
    "\n",
    "print(f\"Comparisson results of the two model weights compared is -> {np.allclose(source_layer1_weights, target_layer1_weights)}\")"
   ]
  },
  {
   "cell_type": "code",
   "execution_count": 62,
   "metadata": {},
   "outputs": [
    {
     "name": "stdout",
     "output_type": "stream",
     "text": [
      "Train on 10185 samples, validate on 4365 samples\n",
      "Epoch 1/10\n",
      "10185/10185 [==============================] - 32s 3ms/step - loss: 0.4429 - acc: 0.7833 - val_loss: 0.3474 - val_acc: 0.8504\n",
      "Epoch 2/10\n",
      "10185/10185 [==============================] - 33s 3ms/step - loss: 0.3373 - acc: 0.8483 - val_loss: 0.2963 - val_acc: 0.8857\n",
      "Epoch 3/10\n",
      "10185/10185 [==============================] - 25s 2ms/step - loss: 0.2943 - acc: 0.8734 - val_loss: 0.2613 - val_acc: 0.8960\n",
      "Epoch 4/10\n",
      "10185/10185 [==============================] - 25s 2ms/step - loss: 0.2605 - acc: 0.8919 - val_loss: 0.2479 - val_acc: 0.8962\n",
      "Epoch 5/10\n",
      "10185/10185 [==============================] - 25s 2ms/step - loss: 0.2469 - acc: 0.8950 - val_loss: 0.2287 - val_acc: 0.9113\n",
      "Epoch 6/10\n",
      "10185/10185 [==============================] - 24s 2ms/step - loss: 0.2135 - acc: 0.9130 - val_loss: 0.1939 - val_acc: 0.9278\n",
      "Epoch 7/10\n",
      "10185/10185 [==============================] - 25s 2ms/step - loss: 0.1953 - acc: 0.9221 - val_loss: 0.1742 - val_acc: 0.9386\n",
      "Epoch 8/10\n",
      "10185/10185 [==============================] - 24s 2ms/step - loss: 0.1877 - acc: 0.9270 - val_loss: 0.1614 - val_acc: 0.9439\n",
      "Epoch 9/10\n",
      "10185/10185 [==============================] - 27s 3ms/step - loss: 0.1687 - acc: 0.9362 - val_loss: 0.1526 - val_acc: 0.9496\n",
      "Epoch 10/10\n",
      "10185/10185 [==============================] - 25s 2ms/step - loss: 0.1600 - acc: 0.9360 - val_loss: 0.1513 - val_acc: 0.9452\n"
     ]
    }
   ],
   "source": [
    "## Start training of the MI classifier with initialized weights.\n",
    "\n",
    "callbacks_list = [\n",
    "    keras.callbacks.ModelCheckpoint(\n",
    "        filepath='best_MI_model.{epoch:02d}-{val_loss:.2f}.h5',\n",
    "        monitor='val_loss', save_best_only=True),\n",
    "    keras.callbacks.EarlyStopping(monitor='acc', patience=1)\n",
    "]\n",
    "\n",
    "model_mi.compile(loss='categorical_crossentropy',\n",
    "                optimizer='adam', metrics=['accuracy'])\n",
    "\n",
    "BATCH_SIZE = 250\n",
    "EPOCHS = 10\n",
    "\n",
    "history = model_mi.fit(xmi_train,\n",
    "                      ymi_train,\n",
    "                      batch_size=BATCH_SIZE,\n",
    "                      epochs=EPOCHS,\n",
    "                      shuffle=True,\n",
    "                      callbacks=callbacks_list,\n",
    "                      #validation_split=0.2,\n",
    "                      validation_data=(xmi_test, ymi_test),\n",
    "                      verbose=1)"
   ]
  },
  {
   "cell_type": "markdown",
   "metadata": {},
   "source": [
    "## Visualize model training metrics"
   ]
  },
  {
   "cell_type": "code",
   "execution_count": 63,
   "metadata": {},
   "outputs": [
    {
     "data": {
      "image/png": "[encoded data removed]",
      "text/plain": [
       "<Figure size 432x288 with 1 Axes>"
      ]
     },
     "metadata": {
      "needs_background": "light"
     },
     "output_type": "display_data"
    }
   ],
   "source": [
    "plt.plot(history.history['loss'])\n",
    "plt.plot(history.history['val_loss'])\n",
    "plt.title('model loss')\n",
    "plt.ylabel('loss')\n",
    "plt.xlabel('epoch')\n",
    "plt.legend(['train', 'val'], loc='upper left')\n",
    "plt.show()"
   ]
  },
  {
   "cell_type": "code",
   "execution_count": 64,
   "metadata": {},
   "outputs": [
    {
     "data": {
      "image/png": "[encoded data removed]",
      "text/plain": [
       "<Figure size 432x288 with 1 Axes>"
      ]
     },
     "metadata": {
      "needs_background": "light"
     },
     "output_type": "display_data"
    }
   ],
   "source": [
    "plt.plot(history.history['acc'])\n",
    "plt.plot(history.history['val_acc'])\n",
    "plt.title('model accuracy')\n",
    "plt.ylabel('accuracy')\n",
    "plt.xlabel('epoch')\n",
    "plt.legend(['train', 'val'], loc='upper left')\n",
    "plt.show()"
   ]
  },
  {
   "cell_type": "markdown",
   "metadata": {},
   "source": [
    "### Save the trained model MI classifier"
   ]
  },
  {
   "cell_type": "code",
   "execution_count": 65,
   "metadata": {},
   "outputs": [],
   "source": [
    "model_mi.save(\"models/model_MI_final.h5\")"
   ]
  },
  {
   "cell_type": "markdown",
   "metadata": {},
   "source": [
    "### Evaluate model predictions"
   ]
  },
  {
   "cell_type": "code",
   "execution_count": 66,
   "metadata": {},
   "outputs": [
    {
     "data": {
      "text/plain": [
       "array([[0., 1.],\n",
       "       [0., 1.],\n",
       "       [0., 1.],\n",
       "       [1., 0.]], dtype=float32)"
      ]
     },
     "execution_count": 66,
     "metadata": {},
     "output_type": "execute_result"
    }
   ],
   "source": [
    "idx = [8,9,10, 3500]\n",
    "ymi_test[idx]"
   ]
  },
  {
   "cell_type": "code",
   "execution_count": 67,
   "metadata": {},
   "outputs": [
    {
     "name": "stdout",
     "output_type": "stream",
     "text": [
      "The actual class for the test indexes are [1 1 1 0]\n",
      "The predicted classes for the test indexes are [1 1 1 0]\n"
     ]
    }
   ],
   "source": [
    "###Test some data points\n",
    "model_MI_loaded = load_model('models/model_MI_final.h5')\n",
    "idx = [8,9,10, 3500]\n",
    "\n",
    "##if previously not resphaped, run below line also\n",
    "#to_pred = x_test[idx].reshape(1,x_test[idx].shape[0], x_test[idx].shape[1])\n",
    "\n",
    "#if previously reshaped run the below line, else comment\n",
    "to_pred = xmi_test[idx]\n",
    "out_classes = model_MI_loaded.predict(to_pred)\n",
    "MI_class = np.argmax(out_classes,axis=1)\n",
    "\n",
    "print(f\"The actual class for the test indexes are {np.argmax(ymi_test[idx],axis=1)}\")\n",
    "print(f\"The predicted classes for the test indexes are {np.argmax(out_classes, axis =1)}\")"
   ]
  },
  {
   "cell_type": "markdown",
   "metadata": {},
   "source": [
    "## Final Comments"
   ]
  },
  {
   "cell_type": "markdown",
   "metadata": {},
   "source": [
    "As the data was already in format ready to be used for training there was not much of preprocessing required.\n",
    "\n",
    "The data can be visually analyzed by plotting the readings to see some pattern emerging for the 5 heartbeat classes.\n",
    "\n",
    "There was not a lot of variations in accuracy seen for hyperparameters changes like Batch size, optimizer.\n",
    "\n",
    "It was noticed an accuracy improvement of 4% with the transfer learning approach as compared to the training of MI classifier from random weighs initialization."
   ]
  },
  {
   "cell_type": "code",
   "execution_count": null,
   "metadata": {},
   "outputs": [],
   "source": []
  }
 ],
 "metadata": {
  "kernelspec": {
   "display_name": "Python 3",
   "language": "python",
   "name": "python3"
  },
  "language_info": {
   "codemirror_mode": {
    "name": "ipython",
    "version": 3
   },
   "file_extension": ".py",
   "mimetype": "text/x-python",
   "name": "python",
   "nbconvert_exporter": "python",
   "pygments_lexer": "ipython3",
   "version": "3.7.3"
  }
 },
 "nbformat": 4,
 "nbformat_minor": 2
}
