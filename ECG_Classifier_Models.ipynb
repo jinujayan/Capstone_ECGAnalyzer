{
 "cells": [
  {
   "cell_type": "code",
   "execution_count": 22,
   "metadata": {},
   "outputs": [],
   "source": [
    "import pandas as pd\n",
    "import numpy as np\n",
    "import matplotlib.pyplot as plt\n",
    "import keras\n",
    "from keras.models import Sequential\n",
    "from keras.layers import Dense, Dropout, Flatten\n",
    "from keras.layers import Conv1D, MaxPooling1D, GlobalAveragePooling1D\n",
    "from keras.optimizers import SGD\n",
    "from keras.utils import to_categorical\n",
    "from keras.models import load_model\n",
    "from sklearn.model_selection import train_test_split\n",
    "#import tensorflow.python.util.deprecation as deprecation\n",
    "from sklearn.metrics import precision_recall_fscore_support as score\n",
    "import pathlib\n",
    "#deprecation._PRINT_DEPRECATION_WARNINGS = False\n",
    "%matplotlib inline\n",
    "\n"
   ]
  },
  {
   "cell_type": "markdown",
   "metadata": {},
   "source": [
    "### Set up tokens to download data from kaggle via api\n",
    "\n",
    "To download manually got to https://www.kaggle.com/shayanfazeli/heartbeat\n",
    "\n",
    "To run the below cell, enter valid user name and api key\n",
    "\n",
    "To install kaggle run 'pip install kaggle'"
   ]
  },
  {
   "cell_type": "code",
   "execution_count": 34,
   "metadata": {},
   "outputs": [],
   "source": [
    "import os\n",
    "os.environ['KAGGLE_USERNAME'] = \"valid-user\"\n",
    "os.environ['KAGGLE_KEY'] = \"valid-key\"\n",
    "import kaggle\n",
    "kaggle.api.authenticate()\n",
    "\n",
    "pathlib.Path.cwd().joinpath('data').mkdir(parents=True, exist_ok=True)\n",
    "kaggle.api.dataset_download_files('shayanfazeli/heartbeat', path='data', unzip=True)"
   ]
  },
  {
   "cell_type": "markdown",
   "metadata": {},
   "source": [
    "### Read the MIT Arrhythmia Dataset"
   ]
  },
  {
   "cell_type": "code",
   "execution_count": 23,
   "metadata": {},
   "outputs": [
    {
     "data": {
      "text/plain": [
       "(109444, 188)"
      ]
     },
     "execution_count": 23,
     "metadata": {},
     "output_type": "execute_result"
    }
   ],
   "source": [
    "df = pd.read_csv('data/mitbih_train.csv')\n",
    "renamed_cols = [f\"col_{i}\" for i,col in enumerate(df.columns)]\n",
    "df.columns = renamed_cols\n",
    "\n",
    "df_test = pd.read_csv('data/mitbih_test.csv')\n",
    "renamed_cols = [f\"col_{i}\" for i,col in enumerate(df_test.columns)]\n",
    "df_test.columns = renamed_cols\n",
    "\n",
    "df_MIT = pd.concat([df,df_test],ignore_index=True)\n",
    "df_MIT.shape"
   ]
  },
  {
   "cell_type": "markdown",
   "metadata": {},
   "source": [
    "### Data Visualization and Analysis"
   ]
  },
  {
   "cell_type": "code",
   "execution_count": 24,
   "metadata": {},
   "outputs": [
    {
     "data": {
      "image/png": "[encoded data removed]",
      "text/plain": [
       "<Figure size 432x288 with 1 Axes>"
      ]
     },
     "metadata": {},
     "output_type": "display_data"
    }
   ],
   "source": [
    "###Plot to see variations in each class\n",
    "##change class numbers as 1.0, 0.0, 2.0,3.0, 4.0\n",
    "\n",
    "def plotGivenClass(cls):\n",
    "    df_MIT.loc[df_MIT.col_187 == cls].sample(1).iloc[0].plot()\n",
    "    return\n",
    "\n",
    "plotGivenClass(1.0)"
   ]
  },
  {
   "cell_type": "code",
   "execution_count": 126,
   "metadata": {},
   "outputs": [
    {
     "data": {
      "text/plain": [
       "0.0    90587\n",
       "4.0     8039\n",
       "2.0     7236\n",
       "1.0     2779\n",
       "3.0      803\n",
       "Name: col_187, dtype: int64"
      ]
     },
     "execution_count": 126,
     "metadata": {},
     "output_type": "execute_result"
    }
   ],
   "source": [
    "df_MIT.col_187.value_counts()\n",
    "#df_MIT.head(5)"
   ]
  },
  {
   "cell_type": "code",
   "execution_count": 125,
   "metadata": {},
   "outputs": [
    {
     "data": {
      "text/html": [
       "<div>\n",
       "<style scoped>\n",
       "    .dataframe tbody tr th:only-of-type {\n",
       "        vertical-align: middle;\n",
       "    }\n",
       "\n",
       "    .dataframe tbody tr th {\n",
       "        vertical-align: top;\n",
       "    }\n",
       "\n",
       "    .dataframe thead th {\n",
       "        text-align: right;\n",
       "    }\n",
       "</style>\n",
       "<table border=\"1\" class=\"dataframe\">\n",
       "  <thead>\n",
       "    <tr style=\"text-align: right;\">\n",
       "      <th></th>\n",
       "      <th>col_0</th>\n",
       "      <th>col_1</th>\n",
       "      <th>col_2</th>\n",
       "      <th>col_3</th>\n",
       "      <th>col_4</th>\n",
       "      <th>col_5</th>\n",
       "      <th>col_6</th>\n",
       "      <th>col_7</th>\n",
       "      <th>col_8</th>\n",
       "      <th>col_9</th>\n",
       "      <th>...</th>\n",
       "      <th>col_178</th>\n",
       "      <th>col_179</th>\n",
       "      <th>col_180</th>\n",
       "      <th>col_181</th>\n",
       "      <th>col_182</th>\n",
       "      <th>col_183</th>\n",
       "      <th>col_184</th>\n",
       "      <th>col_185</th>\n",
       "      <th>col_186</th>\n",
       "      <th>col_187</th>\n",
       "    </tr>\n",
       "  </thead>\n",
       "  <tbody>\n",
       "    <tr>\n",
       "      <td>count</td>\n",
       "      <td>109444.000000</td>\n",
       "      <td>109444.000000</td>\n",
       "      <td>109444.000000</td>\n",
       "      <td>109444.000000</td>\n",
       "      <td>109444.000000</td>\n",
       "      <td>109444.000000</td>\n",
       "      <td>109444.000000</td>\n",
       "      <td>109444.000000</td>\n",
       "      <td>109444.000000</td>\n",
       "      <td>109444.000000</td>\n",
       "      <td>...</td>\n",
       "      <td>109444.000000</td>\n",
       "      <td>109444.000000</td>\n",
       "      <td>109444.000000</td>\n",
       "      <td>109444.000000</td>\n",
       "      <td>109444.000000</td>\n",
       "      <td>109444.000000</td>\n",
       "      <td>109444.000000</td>\n",
       "      <td>109444.000000</td>\n",
       "      <td>109444.000000</td>\n",
       "      <td>109444.000000</td>\n",
       "    </tr>\n",
       "    <tr>\n",
       "      <td>mean</td>\n",
       "      <td>0.891168</td>\n",
       "      <td>0.758907</td>\n",
       "      <td>0.424504</td>\n",
       "      <td>0.219604</td>\n",
       "      <td>0.201238</td>\n",
       "      <td>0.210299</td>\n",
       "      <td>0.205609</td>\n",
       "      <td>0.201619</td>\n",
       "      <td>0.198482</td>\n",
       "      <td>0.196613</td>\n",
       "      <td>...</td>\n",
       "      <td>0.004937</td>\n",
       "      <td>0.004568</td>\n",
       "      <td>0.004237</td>\n",
       "      <td>0.003914</td>\n",
       "      <td>0.003673</td>\n",
       "      <td>0.003469</td>\n",
       "      <td>0.003210</td>\n",
       "      <td>0.002956</td>\n",
       "      <td>0.002835</td>\n",
       "      <td>0.473448</td>\n",
       "    </tr>\n",
       "    <tr>\n",
       "      <td>std</td>\n",
       "      <td>0.239659</td>\n",
       "      <td>0.221191</td>\n",
       "      <td>0.227559</td>\n",
       "      <td>0.207248</td>\n",
       "      <td>0.177192</td>\n",
       "      <td>0.171966</td>\n",
       "      <td>0.178375</td>\n",
       "      <td>0.177021</td>\n",
       "      <td>0.171469</td>\n",
       "      <td>0.168028</td>\n",
       "      <td>...</td>\n",
       "      <td>0.043952</td>\n",
       "      <td>0.042109</td>\n",
       "      <td>0.040471</td>\n",
       "      <td>0.038801</td>\n",
       "      <td>0.037465</td>\n",
       "      <td>0.036552</td>\n",
       "      <td>0.035015</td>\n",
       "      <td>0.033414</td>\n",
       "      <td>0.032620</td>\n",
       "      <td>1.143240</td>\n",
       "    </tr>\n",
       "    <tr>\n",
       "      <td>min</td>\n",
       "      <td>0.000000</td>\n",
       "      <td>0.000000</td>\n",
       "      <td>0.000000</td>\n",
       "      <td>0.000000</td>\n",
       "      <td>0.000000</td>\n",
       "      <td>0.000000</td>\n",
       "      <td>0.000000</td>\n",
       "      <td>0.000000</td>\n",
       "      <td>0.000000</td>\n",
       "      <td>0.000000</td>\n",
       "      <td>...</td>\n",
       "      <td>0.000000</td>\n",
       "      <td>0.000000</td>\n",
       "      <td>0.000000</td>\n",
       "      <td>0.000000</td>\n",
       "      <td>0.000000</td>\n",
       "      <td>0.000000</td>\n",
       "      <td>0.000000</td>\n",
       "      <td>0.000000</td>\n",
       "      <td>0.000000</td>\n",
       "      <td>0.000000</td>\n",
       "    </tr>\n",
       "    <tr>\n",
       "      <td>25%</td>\n",
       "      <td>0.922251</td>\n",
       "      <td>0.682642</td>\n",
       "      <td>0.251018</td>\n",
       "      <td>0.048858</td>\n",
       "      <td>0.082418</td>\n",
       "      <td>0.088300</td>\n",
       "      <td>0.073171</td>\n",
       "      <td>0.066097</td>\n",
       "      <td>0.064897</td>\n",
       "      <td>0.068627</td>\n",
       "      <td>...</td>\n",
       "      <td>0.000000</td>\n",
       "      <td>0.000000</td>\n",
       "      <td>0.000000</td>\n",
       "      <td>0.000000</td>\n",
       "      <td>0.000000</td>\n",
       "      <td>0.000000</td>\n",
       "      <td>0.000000</td>\n",
       "      <td>0.000000</td>\n",
       "      <td>0.000000</td>\n",
       "      <td>0.000000</td>\n",
       "    </tr>\n",
       "    <tr>\n",
       "      <td>50%</td>\n",
       "      <td>0.991202</td>\n",
       "      <td>0.826560</td>\n",
       "      <td>0.430174</td>\n",
       "      <td>0.166355</td>\n",
       "      <td>0.147842</td>\n",
       "      <td>0.158640</td>\n",
       "      <td>0.145078</td>\n",
       "      <td>0.144465</td>\n",
       "      <td>0.150078</td>\n",
       "      <td>0.148853</td>\n",
       "      <td>...</td>\n",
       "      <td>0.000000</td>\n",
       "      <td>0.000000</td>\n",
       "      <td>0.000000</td>\n",
       "      <td>0.000000</td>\n",
       "      <td>0.000000</td>\n",
       "      <td>0.000000</td>\n",
       "      <td>0.000000</td>\n",
       "      <td>0.000000</td>\n",
       "      <td>0.000000</td>\n",
       "      <td>0.000000</td>\n",
       "    </tr>\n",
       "    <tr>\n",
       "      <td>75%</td>\n",
       "      <td>1.000000</td>\n",
       "      <td>0.910865</td>\n",
       "      <td>0.579832</td>\n",
       "      <td>0.342714</td>\n",
       "      <td>0.259049</td>\n",
       "      <td>0.287505</td>\n",
       "      <td>0.298343</td>\n",
       "      <td>0.295238</td>\n",
       "      <td>0.290625</td>\n",
       "      <td>0.283465</td>\n",
       "      <td>...</td>\n",
       "      <td>0.000000</td>\n",
       "      <td>0.000000</td>\n",
       "      <td>0.000000</td>\n",
       "      <td>0.000000</td>\n",
       "      <td>0.000000</td>\n",
       "      <td>0.000000</td>\n",
       "      <td>0.000000</td>\n",
       "      <td>0.000000</td>\n",
       "      <td>0.000000</td>\n",
       "      <td>0.000000</td>\n",
       "    </tr>\n",
       "    <tr>\n",
       "      <td>max</td>\n",
       "      <td>1.000000</td>\n",
       "      <td>1.000000</td>\n",
       "      <td>1.000000</td>\n",
       "      <td>1.000000</td>\n",
       "      <td>1.000000</td>\n",
       "      <td>1.000000</td>\n",
       "      <td>1.000000</td>\n",
       "      <td>1.000000</td>\n",
       "      <td>1.000000</td>\n",
       "      <td>1.000000</td>\n",
       "      <td>...</td>\n",
       "      <td>1.000000</td>\n",
       "      <td>1.000000</td>\n",
       "      <td>1.000000</td>\n",
       "      <td>1.000000</td>\n",
       "      <td>1.000000</td>\n",
       "      <td>1.000000</td>\n",
       "      <td>1.000000</td>\n",
       "      <td>1.000000</td>\n",
       "      <td>1.000000</td>\n",
       "      <td>4.000000</td>\n",
       "    </tr>\n",
       "  </tbody>\n",
       "</table>\n",
       "<p>8 rows × 188 columns</p>\n",
       "</div>"
      ],
      "text/plain": [
       "               col_0          col_1          col_2          col_3  \\\n",
       "count  109444.000000  109444.000000  109444.000000  109444.000000   \n",
       "mean        0.891168       0.758907       0.424504       0.219604   \n",
       "std         0.239659       0.221191       0.227559       0.207248   \n",
       "min         0.000000       0.000000       0.000000       0.000000   \n",
       "25%         0.922251       0.682642       0.251018       0.048858   \n",
       "50%         0.991202       0.826560       0.430174       0.166355   \n",
       "75%         1.000000       0.910865       0.579832       0.342714   \n",
       "max         1.000000       1.000000       1.000000       1.000000   \n",
       "\n",
       "               col_4          col_5          col_6          col_7  \\\n",
       "count  109444.000000  109444.000000  109444.000000  109444.000000   \n",
       "mean        0.201238       0.210299       0.205609       0.201619   \n",
       "std         0.177192       0.171966       0.178375       0.177021   \n",
       "min         0.000000       0.000000       0.000000       0.000000   \n",
       "25%         0.082418       0.088300       0.073171       0.066097   \n",
       "50%         0.147842       0.158640       0.145078       0.144465   \n",
       "75%         0.259049       0.287505       0.298343       0.295238   \n",
       "max         1.000000       1.000000       1.000000       1.000000   \n",
       "\n",
       "               col_8          col_9  ...        col_178        col_179  \\\n",
       "count  109444.000000  109444.000000  ...  109444.000000  109444.000000   \n",
       "mean        0.198482       0.196613  ...       0.004937       0.004568   \n",
       "std         0.171469       0.168028  ...       0.043952       0.042109   \n",
       "min         0.000000       0.000000  ...       0.000000       0.000000   \n",
       "25%         0.064897       0.068627  ...       0.000000       0.000000   \n",
       "50%         0.150078       0.148853  ...       0.000000       0.000000   \n",
       "75%         0.290625       0.283465  ...       0.000000       0.000000   \n",
       "max         1.000000       1.000000  ...       1.000000       1.000000   \n",
       "\n",
       "             col_180        col_181        col_182        col_183  \\\n",
       "count  109444.000000  109444.000000  109444.000000  109444.000000   \n",
       "mean        0.004237       0.003914       0.003673       0.003469   \n",
       "std         0.040471       0.038801       0.037465       0.036552   \n",
       "min         0.000000       0.000000       0.000000       0.000000   \n",
       "25%         0.000000       0.000000       0.000000       0.000000   \n",
       "50%         0.000000       0.000000       0.000000       0.000000   \n",
       "75%         0.000000       0.000000       0.000000       0.000000   \n",
       "max         1.000000       1.000000       1.000000       1.000000   \n",
       "\n",
       "             col_184        col_185        col_186        col_187  \n",
       "count  109444.000000  109444.000000  109444.000000  109444.000000  \n",
       "mean        0.003210       0.002956       0.002835       0.473448  \n",
       "std         0.035015       0.033414       0.032620       1.143240  \n",
       "min         0.000000       0.000000       0.000000       0.000000  \n",
       "25%         0.000000       0.000000       0.000000       0.000000  \n",
       "50%         0.000000       0.000000       0.000000       0.000000  \n",
       "75%         0.000000       0.000000       0.000000       0.000000  \n",
       "max         1.000000       1.000000       1.000000       4.000000  \n",
       "\n",
       "[8 rows x 188 columns]"
      ]
     },
     "execution_count": 125,
     "metadata": {},
     "output_type": "execute_result"
    }
   ],
   "source": [
    "df_MIT.describe()"
   ]
  },
  {
   "cell_type": "markdown",
   "metadata": {},
   "source": [
    "### Split dataset to train and test"
   ]
  },
  {
   "cell_type": "code",
   "execution_count": 67,
   "metadata": {},
   "outputs": [],
   "source": [
    "x_train, x_test, y_train, y_test = train_test_split(df_MIT.iloc[:,:-1].values, df_MIT.iloc[:,-1].values, test_size = 0.3, random_state = 42)"
   ]
  },
  {
   "cell_type": "markdown",
   "metadata": {},
   "source": [
    "### Create model architecture - ECG Classifier"
   ]
  },
  {
   "cell_type": "code",
   "execution_count": 68,
   "metadata": {},
   "outputs": [
    {
     "name": "stdout",
     "output_type": "stream",
     "text": [
      "_________________________________________________________________\n",
      "Layer (type)                 Output Shape              Param #   \n",
      "=================================================================\n",
      "conv1d_53 (Conv1D)           (None, 178, 100)          1100      \n",
      "_________________________________________________________________\n",
      "max_pooling1d_53 (MaxPooling (None, 89, 100)           0         \n",
      "_________________________________________________________________\n",
      "conv1d_54 (Conv1D)           (None, 80, 160)           160160    \n",
      "_________________________________________________________________\n",
      "max_pooling1d_54 (MaxPooling (None, 40, 160)           0         \n",
      "_________________________________________________________________\n",
      "dropout_27 (Dropout)         (None, 40, 160)           0         \n",
      "_________________________________________________________________\n",
      "flatten_27 (Flatten)         (None, 6400)              0         \n",
      "_________________________________________________________________\n",
      "dense_27 (Dense)             (None, 5)                 32005     \n",
      "=================================================================\n",
      "Total params: 193,265\n",
      "Trainable params: 193,265\n",
      "Non-trainable params: 0\n",
      "_________________________________________________________________\n",
      "None\n"
     ]
    }
   ],
   "source": [
    "num_classes=5\n",
    "model_m_1 = Sequential()\n",
    "model_m_1.add(Conv1D(100, 10, activation='relu', input_shape=(187,1)))\n",
    "\n",
    "model_m_1.add(MaxPooling1D(2))\n",
    "model_m_1.add(Conv1D(160, 10, activation='relu'))\n",
    "\n",
    "model_m_1.add(MaxPooling1D(2))\n",
    "model_m_1.add(Dropout(0.5))\n",
    "model_m_1.add(Flatten())\n",
    "model_m_1.add(Dense(num_classes, activation='softmax'))\n",
    "print(model_m_1.summary())"
   ]
  },
  {
   "cell_type": "code",
   "execution_count": 69,
   "metadata": {},
   "outputs": [],
   "source": [
    "### Format the data so as to get it to correct shape\n",
    "y_train = to_categorical(y_train)\n",
    "y_test = to_categorical(y_test)\n",
    "#x_train = x_train.shape + (1,)\n",
    "x_train = x_train.reshape(x_train.shape[0], x_train.shape[1],1)\n",
    "x_test = x_test.reshape(x_test.shape[0], x_test.shape[1],1)"
   ]
  },
  {
   "cell_type": "code",
   "execution_count": 40,
   "metadata": {},
   "outputs": [
    {
     "data": {
      "text/plain": [
       "(32834, 5)"
      ]
     },
     "execution_count": 40,
     "metadata": {},
     "output_type": "execute_result"
    }
   ],
   "source": [
    "y_test.shape"
   ]
  },
  {
   "cell_type": "code",
   "execution_count": 71,
   "metadata": {},
   "outputs": [
    {
     "name": "stdout",
     "output_type": "stream",
     "text": [
      "Train on 76610 samples, validate on 32834 samples\n",
      "Epoch 1/10\n",
      "76610/76610 [==============================] - 110s 1ms/step - loss: 0.1767 - acc: 0.9508 - val_loss: 0.1461 - val_acc: 0.9592\n",
      "Epoch 2/10\n",
      "76610/76610 [==============================] - 110s 1ms/step - loss: 0.1428 - acc: 0.9608 - val_loss: 0.1277 - val_acc: 0.9648\n",
      "Epoch 3/10\n",
      "76610/76610 [==============================] - 109s 1ms/step - loss: 0.1225 - acc: 0.9663 - val_loss: 0.1090 - val_acc: 0.9692\n",
      "Epoch 4/10\n",
      "76610/76610 [==============================] - 108s 1ms/step - loss: 0.1101 - acc: 0.9697 - val_loss: 0.0987 - val_acc: 0.9727\n",
      "Epoch 5/10\n",
      "76610/76610 [==============================] - 109s 1ms/step - loss: 0.1023 - acc: 0.9711 - val_loss: 0.0946 - val_acc: 0.9738\n",
      "Epoch 6/10\n",
      "76610/76610 [==============================] - 107s 1ms/step - loss: 0.0955 - acc: 0.9733 - val_loss: 0.0871 - val_acc: 0.9762\n",
      "Epoch 7/10\n",
      "76610/76610 [==============================] - 110s 1ms/step - loss: 0.0908 - acc: 0.9745 - val_loss: 0.0851 - val_acc: 0.9758\n",
      "Epoch 8/10\n",
      "76610/76610 [==============================] - 109s 1ms/step - loss: 0.0863 - acc: 0.9754 - val_loss: 0.0812 - val_acc: 0.9776\n",
      "Epoch 9/10\n",
      "76610/76610 [==============================] - 107s 1ms/step - loss: 0.0821 - acc: 0.9769 - val_loss: 0.0827 - val_acc: 0.9767\n",
      "Epoch 10/10\n",
      "76610/76610 [==============================] - 109s 1ms/step - loss: 0.0799 - acc: 0.9767 - val_loss: 0.0774 - val_acc: 0.9792\n"
     ]
    }
   ],
   "source": [
    "## Start model training...can be skipped and model directly loaded\n",
    "\n",
    "callbacks_list = [\n",
    "    keras.callbacks.ModelCheckpoint(\n",
    "        filepath='best_model.{epoch:02d}-{val_loss:.2f}.h5',\n",
    "        monitor='val_loss', save_best_only=True),\n",
    "    keras.callbacks.EarlyStopping(monitor='acc', patience=1)\n",
    "]\n",
    "\n",
    "model_m_1.compile(loss='categorical_crossentropy',\n",
    "                optimizer='adam', metrics=['accuracy'])\n",
    "\n",
    "BATCH_SIZE = 250\n",
    "EPOCHS = 10\n",
    "\n",
    "history = model_m_1.fit(x_train,\n",
    "                      y_train,\n",
    "                      batch_size=BATCH_SIZE,\n",
    "                      epochs=EPOCHS,\n",
    "                      shuffle=True,\n",
    "                      callbacks=callbacks_list,\n",
    "                      #validation_split=0.25,\n",
    "                      validation_data=(x_test, y_test),\n",
    "                      verbose=1)\n"
   ]
  },
  {
   "cell_type": "code",
   "execution_count": 72,
   "metadata": {},
   "outputs": [],
   "source": [
    "###Save the ECG classifier model to disk\n",
    "model_m_1.save(\"models/model_ECG_final.h5\")"
   ]
  },
  {
   "cell_type": "markdown",
   "metadata": {},
   "source": [
    "## Visualize Heartbeat classifier model loss and accuracy trends from training"
   ]
  },
  {
   "cell_type": "code",
   "execution_count": 73,
   "metadata": {},
   "outputs": [
    {
     "data": {
      "image/png": "[encoded data removed]",
      "text/plain": [
       "<Figure size 432x288 with 1 Axes>"
      ]
     },
     "metadata": {},
     "output_type": "display_data"
    }
   ],
   "source": [
    "plt.plot(history.history['loss'])\n",
    "plt.plot(history.history['val_loss'])\n",
    "plt.title('model loss')\n",
    "plt.ylabel('loss')\n",
    "plt.xlabel('epoch')\n",
    "plt.legend(['train', 'val'], loc='upper left')\n",
    "plt.show()"
   ]
  },
  {
   "cell_type": "code",
   "execution_count": 74,
   "metadata": {},
   "outputs": [
    {
     "data": {
      "image/png": "[encoded data removed]",
      "text/plain": [
       "<Figure size 432x288 with 1 Axes>"
      ]
     },
     "metadata": {},
     "output_type": "display_data"
    }
   ],
   "source": [
    "plt.plot(history.history['acc'])\n",
    "plt.plot(history.history['val_acc'])\n",
    "plt.title('model accuracy')\n",
    "plt.ylabel('accuracy')\n",
    "plt.xlabel('epoch')\n",
    "plt.legend(['train', 'val'], loc='upper left')\n",
    "plt.show()"
   ]
  },
  {
   "cell_type": "code",
   "execution_count": 45,
   "metadata": {},
   "outputs": [
    {
     "data": {
      "text/plain": [
       "[<tf.Variable 'conv1d_5/kernel:0' shape=(10, 1, 100) dtype=float32_ref>,\n",
       " <tf.Variable 'conv1d_5/bias:0' shape=(100,) dtype=float32_ref>,\n",
       " <tf.Variable 'conv1d_6/kernel:0' shape=(10, 100, 160) dtype=float32_ref>,\n",
       " <tf.Variable 'conv1d_6/bias:0' shape=(160,) dtype=float32_ref>,\n",
       " <tf.Variable 'dense_3/kernel:0' shape=(6400, 5) dtype=float32_ref>,\n",
       " <tf.Variable 'dense_3/bias:0' shape=(5,) dtype=float32_ref>]"
      ]
     },
     "execution_count": 45,
     "metadata": {},
     "output_type": "execute_result"
    }
   ],
   "source": [
    "##View model weights\n",
    "model_m.weights"
   ]
  },
  {
   "cell_type": "code",
   "execution_count": 31,
   "metadata": {},
   "outputs": [],
   "source": [
    "model_loaded = load_model('models/model_ECG_final.h5')"
   ]
  },
  {
   "cell_type": "code",
   "execution_count": 32,
   "metadata": {},
   "outputs": [
    {
     "name": "stdout",
     "output_type": "stream",
     "text": [
      "The actual class for the test indexes are [0 0]\n",
      "The predicted classes for the test indexes are [0 0]\n"
     ]
    }
   ],
   "source": [
    "###Test some data points\n",
    "\n",
    "model_loaded = load_model('models/model_ECG_final.h5')\n",
    "idx = [26,27]\n",
    "\n",
    "##if previously not resphaped, run below line also\n",
    "#to_pred = x_test[idx].reshape(1,x_test[idx].shape[0], x_test[idx].shape[1])\n",
    "\n",
    "#if previously reshaped run the below line, else comment\n",
    "to_pred = x_test[idx]\n",
    "out_classes = model_loaded.predict(to_pred)\n",
    "print(f\"The actual class for the test indexes are {np.argmax(y_test[idx],axis=1)}\")\n",
    "print(f\"The predicted classes for the test indexes are {np.argmax(out_classes, axis =1)}\")\n"
   ]
  },
  {
   "cell_type": "code",
   "execution_count": 47,
   "metadata": {},
   "outputs": [
    {
     "data": {
      "text/plain": [
       "[<keras.layers.convolutional.Conv1D at 0x7fc8f07c3ef0>,\n",
       " <keras.layers.pooling.MaxPooling1D at 0x7fc8f07c35f8>,\n",
       " <keras.layers.convolutional.Conv1D at 0x7fc8f07c3748>,\n",
       " <keras.layers.pooling.MaxPooling1D at 0x7fc8f07f67f0>,\n",
       " <keras.layers.core.Dropout at 0x7fc8f07c3048>,\n",
       " <keras.layers.core.Flatten at 0x7fc8f079a588>,\n",
       " <keras.layers.core.Dense at 0x7fc8f079ad68>]"
      ]
     },
     "execution_count": 47,
     "metadata": {},
     "output_type": "execute_result"
    }
   ],
   "source": [
    "model_loaded.layers"
   ]
  },
  {
   "cell_type": "code",
   "execution_count": 33,
   "metadata": {},
   "outputs": [],
   "source": [
    "def copyModel2Model(model_source,model_target,certain_layer=\"\"):\n",
    "    \"\"\"\n",
    "    Function to copy weights from one model to another model till a certain layer\n",
    "    \n",
    "    @param  model_source : The source model whose weight needs to be copied\n",
    "    @param  model_target : The target model whose weight needs to be updated\n",
    "    @param  certain_layer : The layer till which the weights to be updated in the target model\n",
    "    \n",
    "    @return \n",
    "    \"\"\"\n",
    "    for l_tg,l_sr in zip(model_target.layers,model_source.layers):\n",
    "        print(l_tg.name)\n",
    "        wk0=l_sr.get_weights()\n",
    "        l_tg.set_weights(wk0)\n",
    "        if certain_layer in l_tg.name:\n",
    "            default_layer = l_tg.name\n",
    "            break\n",
    "    print(f\"Weights from model source was copied into model target...till layer {default_layer}(excluded)\") \n",
    "    return\n"
   ]
  },
  {
   "cell_type": "markdown",
   "metadata": {},
   "source": [
    "### Read the PTB Diagnostic ECG Dataset"
   ]
  },
  {
   "cell_type": "code",
   "execution_count": 34,
   "metadata": {},
   "outputs": [],
   "source": [
    "df_ptbn = pd.read_csv('data/ptbdb_normal.csv')\n",
    "renamed_cols = [f\"col_{i}\" for i,col in enumerate(df_ptbn.columns)]\n",
    "df_ptbn.columns = renamed_cols\n",
    "\n",
    "df_ptbabn = pd.read_csv('data/ptbdb_abnormal.csv')\n",
    "renamed_cols = [f\"col_{i}\" for i,col in enumerate(df_ptbabn.columns)]\n",
    "df_ptbabn.columns = renamed_cols\n",
    "\n",
    "df_ptb = pd.concat([df_ptbn,df_ptbabn],ignore_index=True)"
   ]
  },
  {
   "cell_type": "markdown",
   "metadata": {},
   "source": [
    "### Split dataset to train and test"
   ]
  },
  {
   "cell_type": "code",
   "execution_count": 43,
   "metadata": {},
   "outputs": [],
   "source": [
    "xmi_train, xmi_test, ymi_train, ymi_test = train_test_split(df_ptb.iloc[:,:-1].values, df_ptb.iloc[:,-1].values, test_size = 0.3, random_state = 42)"
   ]
  },
  {
   "cell_type": "code",
   "execution_count": 44,
   "metadata": {},
   "outputs": [
    {
     "data": {
      "text/plain": [
       "(4365, 187, 1)"
      ]
     },
     "execution_count": 44,
     "metadata": {},
     "output_type": "execute_result"
    }
   ],
   "source": [
    "##Format data to expected shape\n",
    "ymi_train = to_categorical(ymi_train)\n",
    "ymi_test = to_categorical(ymi_test)\n",
    "xmi_train = xmi_train.reshape(xmi_train.shape[0], xmi_train.shape[1],1)\n",
    "xmi_test = xmi_test.reshape(xmi_test.shape[0], xmi_test.shape[1],1)\n",
    "xmi_test.shape"
   ]
  },
  {
   "cell_type": "markdown",
   "metadata": {},
   "source": [
    "### Create model architecture - MI classifier"
   ]
  },
  {
   "cell_type": "code",
   "execution_count": 52,
   "metadata": {},
   "outputs": [
    {
     "data": {
      "text/plain": [
       "(10185, 187, 1)"
      ]
     },
     "execution_count": 52,
     "metadata": {},
     "output_type": "execute_result"
    }
   ],
   "source": [
    "xmi_train.shape"
   ]
  },
  {
   "cell_type": "code",
   "execution_count": 45,
   "metadata": {},
   "outputs": [
    {
     "name": "stdout",
     "output_type": "stream",
     "text": [
      "_________________________________________________________________\n",
      "Layer (type)                 Output Shape              Param #   \n",
      "=================================================================\n",
      "conv1d_23 (Conv1D)           (None, 178, 100)          1100      \n",
      "_________________________________________________________________\n",
      "max_pooling1d_23 (MaxPooling (None, 89, 100)           0         \n",
      "_________________________________________________________________\n",
      "conv1d_24 (Conv1D)           (None, 80, 160)           160160    \n",
      "_________________________________________________________________\n",
      "max_pooling1d_24 (MaxPooling (None, 40, 160)           0         \n",
      "_________________________________________________________________\n",
      "dropout_12 (Dropout)         (None, 40, 160)           0         \n",
      "_________________________________________________________________\n",
      "flatten_12 (Flatten)         (None, 6400)              0         \n",
      "_________________________________________________________________\n",
      "dense_12 (Dense)             (None, 2)                 12802     \n",
      "=================================================================\n",
      "Total params: 174,062\n",
      "Trainable params: 174,062\n",
      "Non-trainable params: 0\n",
      "_________________________________________________________________\n",
      "None\n"
     ]
    }
   ],
   "source": [
    "num_classes=2\n",
    "model_mi = Sequential()\n",
    "\n",
    "model_mi.add(Conv1D(100, 10, activation='relu', input_shape=(187,1)))\n",
    "model_mi.add(MaxPooling1D(2))\n",
    "model_mi.add(Conv1D(160, 10, activation='relu'))\n",
    "\n",
    "model_mi.add(MaxPooling1D(2))\n",
    "model_mi.add(Dropout(0.5))\n",
    "model_mi.add(Flatten())\n",
    "model_mi.add(Dense(num_classes, activation='softmax'))\n",
    "print(model_mi.summary())"
   ]
  },
  {
   "cell_type": "markdown",
   "metadata": {},
   "source": [
    "### Train model with default weights"
   ]
  },
  {
   "cell_type": "code",
   "execution_count": 46,
   "metadata": {},
   "outputs": [
    {
     "name": "stdout",
     "output_type": "stream",
     "text": [
      "Train on 10185 samples, validate on 4365 samples\n",
      "Epoch 1/10\n",
      "10185/10185 [==============================] - 16s 2ms/step - loss: 0.5098 - acc: 0.7387 - val_loss: 0.4410 - val_acc: 0.7954\n",
      "Epoch 2/10\n",
      "10185/10185 [==============================] - 16s 2ms/step - loss: 0.4188 - acc: 0.7943 - val_loss: 0.3898 - val_acc: 0.8110\n",
      "Epoch 3/10\n",
      "10185/10185 [==============================] - 14s 1ms/step - loss: 0.3818 - acc: 0.8199 - val_loss: 0.3528 - val_acc: 0.8474\n",
      "Epoch 4/10\n",
      "10185/10185 [==============================] - 14s 1ms/step - loss: 0.3515 - acc: 0.8431 - val_loss: 0.3375 - val_acc: 0.8442\n",
      "Epoch 5/10\n",
      "10185/10185 [==============================] - 14s 1ms/step - loss: 0.3205 - acc: 0.8613 - val_loss: 0.3095 - val_acc: 0.8603\n",
      "Epoch 6/10\n",
      "10185/10185 [==============================] - 14s 1ms/step - loss: 0.3094 - acc: 0.8653 - val_loss: 0.2699 - val_acc: 0.8958\n",
      "Epoch 7/10\n",
      "10185/10185 [==============================] - 14s 1ms/step - loss: 0.2736 - acc: 0.8887 - val_loss: 0.2694 - val_acc: 0.8816\n",
      "Epoch 8/10\n",
      "10185/10185 [==============================] - 14s 1ms/step - loss: 0.2599 - acc: 0.8983 - val_loss: 0.2257 - val_acc: 0.9200\n",
      "Epoch 9/10\n",
      "10185/10185 [==============================] - 14s 1ms/step - loss: 0.2485 - acc: 0.9021 - val_loss: 0.2791 - val_acc: 0.8733\n",
      "Epoch 10/10\n",
      "10185/10185 [==============================] - 14s 1ms/step - loss: 0.2401 - acc: 0.9049 - val_loss: 0.2081 - val_acc: 0.9242\n"
     ]
    }
   ],
   "source": [
    "## Start training of the MI classifier with default weights.\n",
    "from keras.optimizers import Adam\n",
    "callbacks_list = [\n",
    "    keras.callbacks.ModelCheckpoint(\n",
    "        filepath='best_MI_model.{epoch:02d}-{val_loss:.2f}.h5',\n",
    "        monitor='val_loss', save_best_only=True),\n",
    "    keras.callbacks.EarlyStopping(monitor='acc', patience=1)\n",
    "]\n",
    "\n",
    "model_mi.compile(loss='categorical_crossentropy',\n",
    "                optimizer=Adam(), metrics=['accuracy'])\n",
    "\n",
    "BATCH_SIZE = 250\n",
    "EPOCHS = 10\n",
    "\n",
    "history = model_mi.fit(xmi_train,\n",
    "                      ymi_train,\n",
    "                      batch_size=BATCH_SIZE,\n",
    "                      epochs=EPOCHS,\n",
    "                      shuffle=True,\n",
    "                      callbacks=callbacks_list,\n",
    "                      #validation_split=0.2,\n",
    "                      validation_data=(xmi_test, ymi_test),\n",
    "                      verbose=1)"
   ]
  },
  {
   "cell_type": "code",
   "execution_count": 13,
   "metadata": {},
   "outputs": [
    {
     "name": "stdout",
     "output_type": "stream",
     "text": [
      "Precision : 0.9131373466722239\n",
      "Recall    : 0.9325400586240278\n",
      "F-score   : 0.922041389157088\n",
      "Support   : None\n"
     ]
    }
   ],
   "source": [
    "y_actual = np.argmax(ymi_test,axis=1)\n",
    "y_pred = np.argmax(model_mi.predict(xmi_test),axis=1)\n",
    "precision,recall,fscore,support=score(y_actual, y_pred,average='macro')\n",
    "\n",
    "print ('Precision : {}'.format(precision))\n",
    "print( 'Recall    : {}'.format(recall))\n",
    "print ('F-score   : {}'.format(fscore))\n",
    "print ('Support   : {}'.format(support))"
   ]
  },
  {
   "cell_type": "code",
   "execution_count": 54,
   "metadata": {},
   "outputs": [
    {
     "data": {
      "text/plain": [
       "[<keras.layers.convolutional.Conv1D at 0x7fc8bae89ba8>,\n",
       " <keras.layers.pooling.MaxPooling1D at 0x7fc8bae60fd0>,\n",
       " <keras.layers.convolutional.Conv1D at 0x7fc8bae69198>,\n",
       " <keras.layers.pooling.MaxPooling1D at 0x7fc8bae71d30>,\n",
       " <keras.layers.core.Dropout at 0x7fc8bad7eef0>,\n",
       " <keras.layers.core.Flatten at 0x7fc8b7e40b38>,\n",
       " <keras.layers.core.Dense at 0x7fc8b7e40b70>]"
      ]
     },
     "execution_count": 54,
     "metadata": {},
     "output_type": "execute_result"
    }
   ],
   "source": [
    "model_mi.layers"
   ]
  },
  {
   "cell_type": "markdown",
   "metadata": {},
   "source": [
    "### Use the weights from ECG_Classifier"
   ]
  },
  {
   "cell_type": "code",
   "execution_count": 47,
   "metadata": {},
   "outputs": [
    {
     "name": "stdout",
     "output_type": "stream",
     "text": [
      "_________________________________________________________________\n",
      "Layer (type)                 Output Shape              Param #   \n",
      "=================================================================\n",
      "conv1d_25 (Conv1D)           (None, 178, 100)          1100      \n",
      "_________________________________________________________________\n",
      "max_pooling1d_25 (MaxPooling (None, 89, 100)           0         \n",
      "_________________________________________________________________\n",
      "conv1d_26 (Conv1D)           (None, 80, 160)           160160    \n",
      "_________________________________________________________________\n",
      "max_pooling1d_26 (MaxPooling (None, 40, 160)           0         \n",
      "_________________________________________________________________\n",
      "dropout_13 (Dropout)         (None, 40, 160)           0         \n",
      "_________________________________________________________________\n",
      "flatten_13 (Flatten)         (None, 6400)              0         \n",
      "_________________________________________________________________\n",
      "dense_13 (Dense)             (None, 2)                 12802     \n",
      "=================================================================\n",
      "Total params: 174,062\n",
      "Trainable params: 174,062\n",
      "Non-trainable params: 0\n",
      "_________________________________________________________________\n",
      "None\n",
      "conv1d_25\n",
      "max_pooling1d_25\n",
      "conv1d_26\n",
      "max_pooling1d_26\n",
      "dropout_13\n",
      "flatten_13\n",
      "Weights from model source was copied into model target...till layer flatten_13(excluded)\n"
     ]
    }
   ],
   "source": [
    "### Call the method to initialize the weights of the model_mi_transfer\n",
    "num_classes=2\n",
    "model_mi_transfer = Sequential()\n",
    "\n",
    "model_mi_transfer.add(Conv1D(100, 10, activation='relu', input_shape=(187,1)))\n",
    "model_mi_transfer.add(MaxPooling1D(2))\n",
    "model_mi_transfer.add(Conv1D(160, 10, activation='relu'))\n",
    "\n",
    "model_mi_transfer.add(MaxPooling1D(2))\n",
    "model_mi_transfer.add(Dropout(0.5))\n",
    "model_mi_transfer.add(Flatten())\n",
    "model_mi_transfer.add(Dense(num_classes, activation='softmax'))\n",
    "print(model_mi_transfer.summary())\n",
    "\n",
    "copyModel2Model(model_loaded,model_mi_transfer,\"flatten\")"
   ]
  },
  {
   "cell_type": "code",
   "execution_count": 48,
   "metadata": {},
   "outputs": [
    {
     "name": "stdout",
     "output_type": "stream",
     "text": [
      "Comparisson results of the two model weights compared is -> True\n"
     ]
    }
   ],
   "source": [
    "### Verify if model weights are correctly copied\n",
    "\n",
    "source_layer1_weights = model_loaded.layers[0].get_weights()\n",
    "source_layer1_weights = np.array(source_layer1_weights[0])\n",
    "\n",
    "target_layer1_weights = model_mi_transfer.layers[0].get_weights()\n",
    "target_layer1_weights = np.array(target_layer1_weights[0])\n",
    "\n",
    "print(f\"Comparisson results of the two model weights compared is -> {np.allclose(source_layer1_weights, target_layer1_weights)}\")"
   ]
  },
  {
   "cell_type": "code",
   "execution_count": 49,
   "metadata": {},
   "outputs": [
    {
     "name": "stdout",
     "output_type": "stream",
     "text": [
      "Train on 10185 samples, validate on 4365 samples\n",
      "Epoch 1/10\n",
      "10185/10185 [==============================] - 16s 2ms/step - loss: 0.4425 - acc: 0.7849 - val_loss: 0.3520 - val_acc: 0.8559\n",
      "Epoch 2/10\n",
      "10185/10185 [==============================] - 14s 1ms/step - loss: 0.3386 - acc: 0.8450 - val_loss: 0.2962 - val_acc: 0.8788\n",
      "Epoch 3/10\n",
      "10185/10185 [==============================] - 14s 1ms/step - loss: 0.2853 - acc: 0.8819 - val_loss: 0.2436 - val_acc: 0.9074\n",
      "Epoch 4/10\n",
      "10185/10185 [==============================] - 14s 1ms/step - loss: 0.2529 - acc: 0.8952 - val_loss: 0.2512 - val_acc: 0.8884\n",
      "Epoch 5/10\n",
      "10185/10185 [==============================] - 14s 1ms/step - loss: 0.2232 - acc: 0.9118 - val_loss: 0.1907 - val_acc: 0.9354\n",
      "Epoch 6/10\n",
      "10185/10185 [==============================] - 14s 1ms/step - loss: 0.1995 - acc: 0.9221 - val_loss: 0.1759 - val_acc: 0.9404\n",
      "Epoch 7/10\n",
      "10185/10185 [==============================] - 14s 1ms/step - loss: 0.1879 - acc: 0.9268 - val_loss: 0.1682 - val_acc: 0.9375\n",
      "Epoch 8/10\n",
      "10185/10185 [==============================] - 14s 1ms/step - loss: 0.1682 - acc: 0.9361 - val_loss: 0.1505 - val_acc: 0.9480\n",
      "Epoch 9/10\n",
      "10185/10185 [==============================] - 16s 2ms/step - loss: 0.1553 - acc: 0.9428 - val_loss: 0.1434 - val_acc: 0.9501\n",
      "Epoch 10/10\n",
      "10185/10185 [==============================] - 14s 1ms/step - loss: 0.1653 - acc: 0.9357 - val_loss: 0.1404 - val_acc: 0.9457\n",
      "Precision : 0.9275108646217596\n",
      "Recall    : 0.9405400669557424\n",
      "F-score   : 0.9336900868472984\n",
      "Support   : None\n"
     ]
    }
   ],
   "source": [
    "## Start training of the MI classifier with initialized weights.\n",
    "from keras.optimizers import Adam\n",
    "callbacks_list = [\n",
    "    keras.callbacks.ModelCheckpoint(\n",
    "        filepath='best_MI_model.{epoch:02d}-{val_loss:.2f}.h5',\n",
    "        monitor='val_loss', save_best_only=True),\n",
    "    keras.callbacks.EarlyStopping(monitor='acc', patience=1)\n",
    "]\n",
    "\n",
    "model_mi_transfer.compile(loss='categorical_crossentropy',\n",
    "                optimizer=Adam(0.001), metrics=['accuracy'])\n",
    "\n",
    "BATCH_SIZE = 250\n",
    "EPOCHS = 10\n",
    "\n",
    "history_transfer = model_mi_transfer.fit(xmi_train,\n",
    "                      ymi_train,\n",
    "                      batch_size=BATCH_SIZE,\n",
    "                      epochs=EPOCHS,\n",
    "                      shuffle=True,\n",
    "                      callbacks=callbacks_list,\n",
    "                      #validation_split=0.2,\n",
    "                      validation_data=(xmi_test, ymi_test),\n",
    "                      verbose=1)\n",
    "y_actual = np.argmax(ymi_test,axis=1)\n",
    "y_pred = np.argmax(model_mi_transfer.predict(xmi_test),axis=1)\n",
    "precision,recall,fscore,support=score(y_actual, y_pred,average='macro')\n",
    "\n",
    "print ('Precision : {}'.format(precision))\n",
    "print( 'Recall    : {}'.format(recall))\n",
    "print ('F-score   : {}'.format(fscore))\n",
    "print ('Support   : {}'.format(support))"
   ]
  },
  {
   "cell_type": "markdown",
   "metadata": {},
   "source": [
    "### Visualize model before hyper parameter tuning"
   ]
  },
  {
   "cell_type": "code",
   "execution_count": 50,
   "metadata": {},
   "outputs": [
    {
     "data": {
      "image/png": "[encoded data removed]",
      "text/plain": [
       "<Figure size 1152x432 with 2 Axes>"
      ]
     },
     "metadata": {},
     "output_type": "display_data"
    }
   ],
   "source": [
    "import matplotlib.pyplot as plt\n",
    "#plt.figure(figsize=(22, 12))\n",
    "\n",
    "fig, (ax1, ax2)  = plt.subplots(1, 2,figsize=(16,6) )\n",
    "\n",
    "ax1.plot(history_transfer.history['acc'])\n",
    "ax1.plot(history_transfer.history['val_acc'])\n",
    "ax1.set_title('model accuracy')\n",
    "ax1.set_ylabel('accuracy')\n",
    "ax1.set_xlabel('epoch')\n",
    "ax1.legend(['train', 'val'], loc='upper left')\n",
    "\n",
    "\n",
    "ax2.plot(history_transfer.history['loss'])\n",
    "ax2.plot(history_transfer.history['val_loss'])\n",
    "ax2.set_title('model loss')\n",
    "ax2.set_ylabel('loss')\n",
    "ax2.set_xlabel('epoch')\n",
    "ax2.legend(['train', 'val'], loc='upper left')\n",
    "plt.show()"
   ]
  },
  {
   "cell_type": "code",
   "execution_count": 120,
   "metadata": {},
   "outputs": [],
   "source": [
    "def evaluateParams(lr_list):\n",
    "    val_acc_list=[]\n",
    "    metrics=[]\n",
    "    for lr in lr_list:\n",
    "        print(f\"Start eval for {lr}\")\n",
    "        num_classes=2\n",
    "        model_mi = Sequential()\n",
    "\n",
    "        model_mi.add(Conv1D(100, 10, activation='relu', input_shape=(187,1)))\n",
    "        model_mi.add(MaxPooling1D(2))\n",
    "        model_mi.add(Conv1D(160, 10, activation='relu'))\n",
    "\n",
    "        model_mi.add(MaxPooling1D(2))\n",
    "        model_mi.add(Dropout(0.5))\n",
    "        model_mi.add(Flatten())\n",
    "        model_mi.add(Dense(num_classes, activation='softmax'))\n",
    "        copyModel2Model(model_loaded,model_mi,\"flatten\")\n",
    "        model_mi.compile(loss='categorical_crossentropy',optimizer=Adam(lr), metrics=['accuracy'])\n",
    "    \n",
    "        history = model_mi.fit(xmi_train,\n",
    "                      ymi_train,\n",
    "                      batch_size=BATCH_SIZE,\n",
    "                      epochs=EPOCHS,\n",
    "                      shuffle=True,\n",
    "                      callbacks=callbacks_list,\n",
    "                      #validation_split=0.2,\n",
    "                      validation_data=(xmi_test, ymi_test),\n",
    "                      verbose=1)\n",
    "        val_acc_list.append(history.history['val_acc'][-1])\n",
    "        y_actual = np.argmax(ymi_test,axis=1)\n",
    "        y_pred = np.argmax(model_mi.predict(xmi_test),axis=1)\n",
    "        precision,recall,fscore,support=score(y_actual, y_pred,average='macro')\n",
    "        print(f\"The validation accuracy -> {val_acc_list[-1]} -- The recall avg {recall}\")\n",
    "        print ('Precision : {}'.format(precision))\n",
    "        print( 'Recall    : {}'.format(recall))\n",
    "        print ('F-score   : {}'.format(fscore))\n",
    "        print ('Support   : {}'.format(support))\n",
    "        metrics.append(tuple([lr,precision,recall,fscore]))\n",
    "    return val_acc_list,metrics"
   ]
  },
  {
   "cell_type": "code",
   "execution_count": 121,
   "metadata": {},
   "outputs": [
    {
     "name": "stdout",
     "output_type": "stream",
     "text": [
      "Start eval for 0.1\n",
      "conv1d_15\n",
      "max_pooling1d_15\n",
      "conv1d_16\n",
      "max_pooling1d_16\n",
      "dropout_8\n",
      "flatten_8\n",
      "Weights from model source was copied into model target...till layer flatten_8(excluded)\n",
      "Train on 10185 samples, validate on 4365 samples\n",
      "Epoch 1/10\n",
      "10185/10185 [==============================] - 31s 3ms/step - loss: 4.3974 - acc: 0.7172 - val_loss: 4.5123 - val_acc: 0.7200\n",
      "Epoch 2/10\n",
      "10185/10185 [==============================] - 26s 3ms/step - loss: 4.4675 - acc: 0.7228 - val_loss: 4.5123 - val_acc: 0.7200\n",
      "Epoch 3/10\n",
      "10185/10185 [==============================] - 24s 2ms/step - loss: 4.4675 - acc: 0.7228 - val_loss: 4.5123 - val_acc: 0.7200\n",
      "Epoch 4/10\n",
      "10185/10185 [==============================] - 23s 2ms/step - loss: 4.4675 - acc: 0.7228 - val_loss: 4.5123 - val_acc: 0.7200\n",
      "Epoch 5/10\n",
      "10185/10185 [==============================] - 24s 2ms/step - loss: 4.4675 - acc: 0.7228 - val_loss: 4.5123 - val_acc: 0.7200\n"
     ]
    },
    {
     "name": "stderr",
     "output_type": "stream",
     "text": [
      "/opt/anaconda/lib/python3.7/site-packages/sklearn/metrics/classification.py:1437: UndefinedMetricWarning: Precision and F-score are ill-defined and being set to 0.0 in labels with no predicted samples.\n",
      "  'precision', 'predicted', average, warn_for)\n"
     ]
    },
    {
     "name": "stdout",
     "output_type": "stream",
     "text": [
      "The validation accuracy -> 0.720045819110477 -- The recall avg 0.5\n",
      "Precision : 0.3600229095074456\n",
      "Recall    : 0.5\n",
      "F-score   : 0.4186201385189131\n",
      "Support   : None\n",
      "Start eval for 0.01\n",
      "conv1d_17\n",
      "max_pooling1d_17\n",
      "conv1d_18\n",
      "max_pooling1d_18\n",
      "dropout_9\n",
      "flatten_9\n",
      "Weights from model source was copied into model target...till layer flatten_9(excluded)\n",
      "Train on 10185 samples, validate on 4365 samples\n",
      "Epoch 1/10\n",
      "10185/10185 [==============================] - 29s 3ms/step - loss: 0.4903 - acc: 0.7799 - val_loss: 0.3265 - val_acc: 0.8625\n",
      "Epoch 2/10\n",
      "10185/10185 [==============================] - 23s 2ms/step - loss: 0.3144 - acc: 0.8609 - val_loss: 0.2607 - val_acc: 0.8960\n",
      "Epoch 3/10\n",
      "10185/10185 [==============================] - 23s 2ms/step - loss: 0.2651 - acc: 0.8861 - val_loss: 0.2104 - val_acc: 0.9123\n",
      "Epoch 4/10\n",
      "10185/10185 [==============================] - 23s 2ms/step - loss: 0.2161 - acc: 0.9072 - val_loss: 0.1747 - val_acc: 0.9352\n",
      "Epoch 5/10\n",
      "10185/10185 [==============================] - 27s 3ms/step - loss: 0.1890 - acc: 0.9222 - val_loss: 0.1419 - val_acc: 0.9512\n",
      "Epoch 6/10\n",
      "10185/10185 [==============================] - 23s 2ms/step - loss: 0.1765 - acc: 0.9274 - val_loss: 0.1312 - val_acc: 0.9553\n",
      "Epoch 7/10\n",
      "10185/10185 [==============================] - 24s 2ms/step - loss: 0.1636 - acc: 0.9336 - val_loss: 0.1352 - val_acc: 0.9473\n",
      "Epoch 8/10\n",
      "10185/10185 [==============================] - 24s 2ms/step - loss: 0.1407 - acc: 0.9456 - val_loss: 0.1341 - val_acc: 0.9501\n",
      "Epoch 9/10\n",
      "10185/10185 [==============================] - 23s 2ms/step - loss: 0.1431 - acc: 0.9433 - val_loss: 0.1307 - val_acc: 0.9595\n",
      "The validation accuracy -> 0.9594501715755135 -- The recall avg 0.9450834551412668\n",
      "Precision : 0.9536402356500279\n",
      "Recall    : 0.9450834551412668\n",
      "F-score   : 0.9492357186630984\n",
      "Support   : None\n",
      "Start eval for 0.001\n",
      "conv1d_19\n",
      "max_pooling1d_19\n",
      "conv1d_20\n",
      "max_pooling1d_20\n",
      "dropout_10\n",
      "flatten_10\n",
      "Weights from model source was copied into model target...till layer flatten_10(excluded)\n",
      "Train on 10185 samples, validate on 4365 samples\n",
      "Epoch 1/10\n",
      "10185/10185 [==============================] - 33s 3ms/step - loss: 0.4268 - acc: 0.7957 - val_loss: 0.3367 - val_acc: 0.8635\n",
      "Epoch 2/10\n",
      "10185/10185 [==============================] - 28s 3ms/step - loss: 0.3237 - acc: 0.8581 - val_loss: 0.2856 - val_acc: 0.8932\n",
      "Epoch 3/10\n",
      "10185/10185 [==============================] - 25s 2ms/step - loss: 0.2774 - acc: 0.8855 - val_loss: 0.2481 - val_acc: 0.9040\n",
      "Epoch 4/10\n",
      "10185/10185 [==============================] - 23s 2ms/step - loss: 0.2442 - acc: 0.9003 - val_loss: 0.2244 - val_acc: 0.9200\n",
      "Epoch 5/10\n",
      "10185/10185 [==============================] - 26s 3ms/step - loss: 0.2222 - acc: 0.9097 - val_loss: 0.1926 - val_acc: 0.9294\n",
      "Epoch 6/10\n",
      "10185/10185 [==============================] - 28s 3ms/step - loss: 0.1971 - acc: 0.9224 - val_loss: 0.1816 - val_acc: 0.9297\n",
      "Epoch 7/10\n",
      "10185/10185 [==============================] - 24s 2ms/step - loss: 0.1782 - acc: 0.9337 - val_loss: 0.1585 - val_acc: 0.9459\n",
      "Epoch 8/10\n",
      "10185/10185 [==============================] - 33s 3ms/step - loss: 0.1594 - acc: 0.9411 - val_loss: 0.1655 - val_acc: 0.9418\n",
      "Epoch 9/10\n",
      "10185/10185 [==============================] - 27s 3ms/step - loss: 0.1596 - acc: 0.9408 - val_loss: 0.1587 - val_acc: 0.9414\n",
      "The validation accuracy -> 0.9413516649812085 -- The recall avg 0.9045067026041296\n",
      "Precision : 0.9492792076344708\n",
      "Recall    : 0.9045067026041296\n",
      "F-score   : 0.9236231748547019\n",
      "Support   : None\n"
     ]
    }
   ],
   "source": [
    "val_acc_list, metrics = evaluateParams([0.1,0.01,0.001])"
   ]
  },
  {
   "cell_type": "code",
   "execution_count": 129,
   "metadata": {},
   "outputs": [],
   "source": [
    "def evaluateBatchSizes(bs_list):\n",
    "    val_acc_list=[]\n",
    "    metrics=[]\n",
    "    for bs in bs_list:\n",
    "        print(f\"Start eval for {bs}\")\n",
    "        num_classes=2\n",
    "        model_mi = Sequential()\n",
    "\n",
    "        model_mi.add(Conv1D(100, 10, activation='relu', input_shape=(187,1)))\n",
    "        model_mi.add(MaxPooling1D(2))\n",
    "        model_mi.add(Conv1D(160, 10, activation='relu'))\n",
    "\n",
    "        model_mi.add(MaxPooling1D(2))\n",
    "        model_mi.add(Dropout(0.5))\n",
    "        model_mi.add(Flatten())\n",
    "        model_mi.add(Dense(num_classes, activation='softmax'))\n",
    "        copyModel2Model(model_loaded,model_mi,\"flatten\")\n",
    "        model_mi.compile(loss='categorical_crossentropy',optimizer=Adam(0.01), metrics=['accuracy'])\n",
    "    \n",
    "        history = model_mi.fit(xmi_train,\n",
    "                      ymi_train,\n",
    "                      batch_size=bs,\n",
    "                      epochs=EPOCHS,\n",
    "                      shuffle=True,\n",
    "                      callbacks=callbacks_list,\n",
    "                      #validation_split=0.2,\n",
    "                      validation_data=(xmi_test, ymi_test),\n",
    "                      verbose=1)\n",
    "        val_acc_list.append(history.history['val_acc'][-1])\n",
    "        y_actual = np.argmax(ymi_test,axis=1)\n",
    "        y_pred = np.argmax(model_mi.predict(xmi_test),axis=1)\n",
    "        precision,recall,fscore,support=score(y_actual, y_pred,average='macro')\n",
    "        print(f\"The validation accuracy -> {val_acc_list[-1]} -- The recall avg {recall}\")\n",
    "        print ('Precision : {}'.format(precision))\n",
    "        print( 'Recall    : {}'.format(recall))\n",
    "        print ('F-score   : {}'.format(fscore))\n",
    "        print ('Support   : {}'.format(support))\n",
    "        metrics.append(tuple([bs,precision,recall,fscore]))\n",
    "    return val_acc_list,metrics"
   ]
  },
  {
   "cell_type": "markdown",
   "metadata": {},
   "source": [
    "### Visualize model with best selected parameters"
   ]
  },
  {
   "cell_type": "code",
   "execution_count": 63,
   "metadata": {},
   "outputs": [
    {
     "name": "stdout",
     "output_type": "stream",
     "text": [
      "_________________________________________________________________\n",
      "Layer (type)                 Output Shape              Param #   \n",
      "=================================================================\n",
      "conv1d_51 (Conv1D)           (None, 178, 100)          1100      \n",
      "_________________________________________________________________\n",
      "max_pooling1d_51 (MaxPooling (None, 89, 100)           0         \n",
      "_________________________________________________________________\n",
      "conv1d_52 (Conv1D)           (None, 80, 160)           160160    \n",
      "_________________________________________________________________\n",
      "max_pooling1d_52 (MaxPooling (None, 40, 160)           0         \n",
      "_________________________________________________________________\n",
      "dropout_26 (Dropout)         (None, 40, 160)           0         \n",
      "_________________________________________________________________\n",
      "flatten_26 (Flatten)         (None, 6400)              0         \n",
      "_________________________________________________________________\n",
      "dense_26 (Dense)             (None, 2)                 12802     \n",
      "=================================================================\n",
      "Total params: 174,062\n",
      "Trainable params: 174,062\n",
      "Non-trainable params: 0\n",
      "_________________________________________________________________\n",
      "None\n",
      "conv1d_51\n",
      "max_pooling1d_51\n",
      "conv1d_52\n",
      "max_pooling1d_52\n",
      "dropout_26\n",
      "flatten_26\n",
      "Weights from model source was copied into model target...till layer flatten_26(excluded)\n",
      "Train on 10185 samples, validate on 4365 samples\n",
      "Epoch 1/10\n",
      "10185/10185 [==============================] - 17s 2ms/step - loss: 0.3850 - acc: 0.8196 - val_loss: 0.2884 - val_acc: 0.8861\n",
      "Epoch 2/10\n",
      "10185/10185 [==============================] - 15s 1ms/step - loss: 0.2748 - acc: 0.8823 - val_loss: 0.2563 - val_acc: 0.8921\n",
      "Epoch 3/10\n",
      "10185/10185 [==============================] - 16s 2ms/step - loss: 0.2194 - acc: 0.9120 - val_loss: 0.1907 - val_acc: 0.9269\n",
      "Epoch 4/10\n",
      "10185/10185 [==============================] - 15s 1ms/step - loss: 0.1904 - acc: 0.9236 - val_loss: 0.1619 - val_acc: 0.9446\n",
      "Epoch 5/10\n",
      "10185/10185 [==============================] - 15s 1ms/step - loss: 0.1673 - acc: 0.9366 - val_loss: 0.1430 - val_acc: 0.9556\n",
      "Epoch 6/10\n",
      "10185/10185 [==============================] - 15s 1ms/step - loss: 0.1588 - acc: 0.9380 - val_loss: 0.1333 - val_acc: 0.9576\n",
      "Epoch 7/10\n",
      "10185/10185 [==============================] - 15s 1ms/step - loss: 0.1336 - acc: 0.9500 - val_loss: 0.1146 - val_acc: 0.9645\n",
      "Epoch 8/10\n",
      "10185/10185 [==============================] - 15s 1ms/step - loss: 0.1244 - acc: 0.9526 - val_loss: 0.1036 - val_acc: 0.9652\n",
      "Epoch 9/10\n",
      "10185/10185 [==============================] - 15s 1ms/step - loss: 0.1148 - acc: 0.9559 - val_loss: 0.1181 - val_acc: 0.9585\n",
      "Epoch 10/10\n",
      "10185/10185 [==============================] - 15s 1ms/step - loss: 0.1022 - acc: 0.9627 - val_loss: 0.0868 - val_acc: 0.9700\n",
      "Precision : 0.9587006926800731\n",
      "Recall    : 0.9679063650655367\n",
      "F-score   : 0.9631534603940698\n",
      "Support   : None\n"
     ]
    }
   ],
   "source": [
    "num_classes=2\n",
    "model_final = Sequential()\n",
    "\n",
    "model_final.add(Conv1D(100, 10, activation='relu', input_shape=(187,1)))\n",
    "model_final.add(MaxPooling1D(2))\n",
    "model_final.add(Conv1D(160, 10, activation='relu'))\n",
    "\n",
    "model_final.add(MaxPooling1D(2))\n",
    "model_final.add(Dropout(0.5))\n",
    "model_final.add(Flatten())\n",
    "model_final.add(Dense(num_classes, activation='softmax'))\n",
    "print(model_final.summary())\n",
    "\n",
    "### Call the method to initialize the weights of the model_final\n",
    "copyModel2Model(model_loaded,model_final,\"flatten\")\n",
    "\n",
    "callbacks_list = [\n",
    "    keras.callbacks.ModelCheckpoint(\n",
    "        filepath='best_MI_Final_model.{epoch:02d}-{val_loss:.2f}.h5',\n",
    "        monitor='val_loss', save_best_only=True),\n",
    "    keras.callbacks.EarlyStopping(monitor='acc', patience=1)\n",
    "]\n",
    "\n",
    "model_final.compile(loss='categorical_crossentropy',\n",
    "                optimizer=Adam(0.002), metrics=['accuracy'])\n",
    "\n",
    "BATCH_SIZE = 150\n",
    "EPOCHS = 10\n",
    "\n",
    "final_mod_history = model_final.fit(xmi_train,\n",
    "                      ymi_train,\n",
    "                      batch_size=BATCH_SIZE,\n",
    "                      epochs=EPOCHS,\n",
    "                      shuffle=True,\n",
    "                      callbacks=callbacks_list,\n",
    "                      #validation_split=0.2,\n",
    "                      validation_data=(xmi_test, ymi_test),\n",
    "                      verbose=1)\n",
    "y_actual = np.argmax(ymi_test,axis=1)\n",
    "y_pred = np.argmax(model_final.predict(xmi_test),axis=1)\n",
    "precision,recall,fscore,support=score(y_actual, y_pred,average='macro')\n",
    "\n",
    "print ('Precision : {}'.format(precision))\n",
    "print( 'Recall    : {}'.format(recall))\n",
    "print ('F-score   : {}'.format(fscore))\n",
    "print ('Support   : {}'.format(support))"
   ]
  },
  {
   "cell_type": "markdown",
   "metadata": {},
   "source": [
    "## Visualize Final model training metrics"
   ]
  },
  {
   "cell_type": "code",
   "execution_count": 64,
   "metadata": {},
   "outputs": [
    {
     "data": {
      "image/png": "[encoded data removed]",
      "text/plain": [
       "<Figure size 1152x432 with 2 Axes>"
      ]
     },
     "metadata": {},
     "output_type": "display_data"
    }
   ],
   "source": [
    "import matplotlib.pyplot as plt\n",
    "#plt.figure(figsize=(22, 12))\n",
    "\n",
    "fig, (ax1, ax2)  = plt.subplots(1, 2,figsize=(16,6) )\n",
    "\n",
    "ax1.plot(final_mod_history.history['acc'])\n",
    "ax1.plot(final_mod_history.history['val_acc'])\n",
    "ax1.set_title('model accuracy')\n",
    "ax1.set_ylabel('accuracy')\n",
    "ax1.set_xlabel('epoch')\n",
    "ax1.legend(['train', 'val'], loc='upper left')\n",
    "\n",
    "\n",
    "ax2.plot(final_mod_history.history['loss'])\n",
    "ax2.plot(final_mod_history.history['val_loss'])\n",
    "ax2.set_title('model loss')\n",
    "ax2.set_ylabel('loss')\n",
    "ax2.set_xlabel('epoch')\n",
    "ax2.legend(['train', 'val'], loc='upper left')\n",
    "plt.show()\n"
   ]
  },
  {
   "cell_type": "markdown",
   "metadata": {},
   "source": [
    "### Save the trained model MI classifier"
   ]
  },
  {
   "cell_type": "code",
   "execution_count": 65,
   "metadata": {},
   "outputs": [],
   "source": [
    "model_final.save(\"models/model_MI_final.h5\")"
   ]
  },
  {
   "cell_type": "markdown",
   "metadata": {},
   "source": [
    "### Evaluate model predictions"
   ]
  },
  {
   "cell_type": "code",
   "execution_count": 66,
   "metadata": {},
   "outputs": [
    {
     "data": {
      "text/plain": [
       "array([[0., 1.],\n",
       "       [0., 1.],\n",
       "       [0., 1.],\n",
       "       [1., 0.]], dtype=float32)"
      ]
     },
     "execution_count": 66,
     "metadata": {},
     "output_type": "execute_result"
    }
   ],
   "source": [
    "idx = [8,9,10, 3500]\n",
    "ymi_test[idx]"
   ]
  },
  {
   "cell_type": "code",
   "execution_count": 66,
   "metadata": {},
   "outputs": [
    {
     "name": "stdout",
     "output_type": "stream",
     "text": [
      "[[1.9318869e-02 9.8068112e-01]\n",
      " [1.1597621e-03 9.9884027e-01]\n",
      " [3.2307717e-04 9.9967694e-01]\n",
      " [9.9059242e-01 9.4076209e-03]]\n",
      "The actual class for the test indexes are [1 1 1 0]\n",
      "The predicted classes for the test indexes are [1 1 1 0]\n"
     ]
    }
   ],
   "source": [
    "###Test some data points\n",
    "model_MI_loaded = load_model('models/model_MI_final.h5')\n",
    "idx = [8,9,10, 3500]\n",
    "\n",
    "##if previously not resphaped, run below line also\n",
    "#to_pred = x_test[idx].reshape(1,x_test[idx].shape[0], x_test[idx].shape[1])\n",
    "\n",
    "#if previously reshaped run the below line, else comment\n",
    "to_pred = xmi_test[idx]\n",
    "out_classes = model_MI_loaded.predict(to_pred)\n",
    "print(out_classes)\n",
    "MI_class = np.argmax(out_classes,axis=1)\n",
    "\n",
    "print(f\"The actual class for the test indexes are {np.argmax(ymi_test[idx],axis=1)}\")\n",
    "print(f\"The predicted classes for the test indexes are {MI_class}\")"
   ]
  },
  {
   "cell_type": "markdown",
   "metadata": {},
   "source": [
    "## Final Comments"
   ]
  },
  {
   "cell_type": "markdown",
   "metadata": {},
   "source": [
    "As the data was already in format ready to be used for training there was not much of preprocessing required.\n",
    "\n",
    "The data can be visually analyzed by plotting the readings to see some pattern emerging for the 5 heartbeat classes.\n",
    "\n",
    "There was not a lot of variations in accuracy seen for hyperparameters changes like Batch size, learning_rate.\n",
    "\n",
    "It was noticed an accuracy improvement with transfer learning approach as compared to the training of MI classifier from random weighs initialization."
   ]
  },
  {
   "cell_type": "code",
   "execution_count": null,
   "metadata": {},
   "outputs": [],
   "source": []
  }
 ],
 "metadata": {
  "kernelspec": {
   "display_name": "Python 3",
   "language": "python",
   "name": "python3"
  },
  "language_info": {
   "codemirror_mode": {
    "name": "ipython",
    "version": 3
   },
   "file_extension": ".py",
   "mimetype": "text/x-python",
   "name": "python",
   "nbconvert_exporter": "python",
   "pygments_lexer": "ipython3",
   "version": "3.6.5"
  }
 },
 "nbformat": 4,
 "nbformat_minor": 2
}
